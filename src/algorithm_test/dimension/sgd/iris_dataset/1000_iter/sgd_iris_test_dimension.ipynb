{
 "cells": [
  {
   "cell_type": "markdown",
   "id": "c8cdbfb4",
   "metadata": {},
   "source": [
    "# Import iris dataset"
   ]
  },
  {
   "cell_type": "code",
   "execution_count": 1,
   "id": "a5830313",
   "metadata": {},
   "outputs": [
    {
     "name": "stdout",
     "output_type": "stream",
     "text": [
      "Shape of X:  (150, 4)\n",
      "Shape of y:  (150,)\n"
     ]
    }
   ],
   "source": [
    "#---------------\n",
    "# import modules\n",
    "#---------------\n",
    "\n",
    "import numpy as np\n",
    "import matplotlib.pyplot as plt\n",
    "\n",
    "from sklearn.datasets import load_iris\n",
    "from sklearn.metrics import mean_squared_error\n",
    "from sklearn.neural_network import MLPClassifier\n",
    "\n",
    "#----------------\n",
    "# Iris Dataset\n",
    "#----------------\n",
    "\n",
    "data = load_iris()\n",
    "X_org = data.data\n",
    "y_org = data.target\n",
    "print('Shape of X: ', X_org.shape)\n",
    "print('Shape of y: ', y_org.shape)"
   ]
  },
  {
   "cell_type": "code",
   "execution_count": 2,
   "id": "9b2f441c",
   "metadata": {},
   "outputs": [
    {
     "name": "stdout",
     "output_type": "stream",
     "text": [
      "Training target statistics: Counter({1: 44, 0: 39, 2: 37})\n",
      "Testing target statistics: Counter({2: 13, 0: 11, 1: 6})\n"
     ]
    }
   ],
   "source": [
    "from sklearn.model_selection import train_test_split\n",
    "from collections import Counter\n",
    "\n",
    "X_train_bal, X_test_bal, y_train_bal, y_test_bal = train_test_split(X_org, y_org, test_size=0.2, random_state=100)\n",
    "print(f\"Training target statistics: {Counter(y_train_bal)}\")\n",
    "print(f\"Testing target statistics: {Counter(y_test_bal)}\")"
   ]
  },
  {
   "cell_type": "code",
   "execution_count": 3,
   "id": "0d6bfa99",
   "metadata": {},
   "outputs": [
    {
     "name": "stdout",
     "output_type": "stream",
     "text": [
      "Test prediction cost with training:  0.0\n"
     ]
    },
    {
     "name": "stderr",
     "output_type": "stream",
     "text": [
      "C:\\Users\\USER\\anaconda3\\envs\\qpso-env\\lib\\site-packages\\sklearn\\neural_network\\_multilayer_perceptron.py:692: ConvergenceWarning: Stochastic Optimizer: Maximum iterations (1000) reached and the optimization hasn't converged yet.\n",
      "  warnings.warn(\n"
     ]
    }
   ],
   "source": [
    "X_train = X_train_bal\n",
    "y_train = y_train_bal\n",
    "X_test = X_test_bal\n",
    "y_test = y_test_bal\n",
    "\n",
    "clf = MLPClassifier(solver='sgd', max_iter=1000).fit(X_train, y_train)\n",
    "y_test_pred = clf.predict(X_test)\n",
    "cost_test = mean_squared_error(y_test, y_test_pred)\n",
    "print ('Test prediction cost with training: ', cost_test)"
   ]
  },
  {
   "cell_type": "code",
   "execution_count": 4,
   "id": "ddd16301",
   "metadata": {},
   "outputs": [
    {
     "name": "stdout",
     "output_type": "stream",
     "text": [
      "Test prediction cost with training:  0.025\n"
     ]
    }
   ],
   "source": [
    "y_test_pred = clf.predict(X_train)\n",
    "cost_test = mean_squared_error(y_train, y_test_pred)\n",
    "print ('Test prediction cost with training: ', cost_test)"
   ]
  },
  {
   "cell_type": "markdown",
   "id": "594499cd",
   "metadata": {},
   "source": [
    "# Reduce the dimention of the iris dataset (3) with MDS"
   ]
  },
  {
   "cell_type": "code",
   "execution_count": 5,
   "id": "9414aaff",
   "metadata": {},
   "outputs": [
    {
     "name": "stdout",
     "output_type": "stream",
     "text": [
      "Shape of X_train transformed:  (150, 3)\n"
     ]
    }
   ],
   "source": [
    "from sklearn.manifold import MDS\n",
    "embedding = MDS(n_components=3) #, metric=False)\n",
    "X_transformed = embedding.fit_transform(X_org)\n",
    "print ('Shape of X_train transformed: ', X_transformed.shape)"
   ]
  },
  {
   "cell_type": "code",
   "execution_count": 6,
   "id": "87bc0de2",
   "metadata": {},
   "outputs": [
    {
     "name": "stdout",
     "output_type": "stream",
     "text": [
      "Training target statistics: Counter({1: 44, 0: 39, 2: 37})\n",
      "Testing target statistics: Counter({2: 13, 0: 11, 1: 6})\n"
     ]
    }
   ],
   "source": [
    "from sklearn.model_selection import train_test_split\n",
    "from collections import Counter\n",
    "\n",
    "X_train_bal, X_test_bal, y_train_bal, y_test_bal = train_test_split(X_transformed, y_org, test_size=0.2, random_state=100)\n",
    "print(f\"Training target statistics: {Counter(y_train_bal)}\")\n",
    "print(f\"Testing target statistics: {Counter(y_test_bal)}\")"
   ]
  },
  {
   "cell_type": "code",
   "execution_count": 7,
   "id": "8dc33724",
   "metadata": {},
   "outputs": [
    {
     "name": "stdout",
     "output_type": "stream",
     "text": [
      "Test prediction cost with training:  0.03333333333333333\n"
     ]
    },
    {
     "name": "stderr",
     "output_type": "stream",
     "text": [
      "C:\\Users\\USER\\anaconda3\\envs\\qpso-env\\lib\\site-packages\\sklearn\\neural_network\\_multilayer_perceptron.py:692: ConvergenceWarning: Stochastic Optimizer: Maximum iterations (1000) reached and the optimization hasn't converged yet.\n",
      "  warnings.warn(\n"
     ]
    }
   ],
   "source": [
    "X_train = X_train_bal\n",
    "y_train = y_train_bal\n",
    "X_test = X_test_bal\n",
    "y_test = y_test_bal\n",
    "\n",
    "clf = MLPClassifier(solver='sgd', max_iter=1000).fit(X_train, y_train)\n",
    "y_test_pred = clf.predict(X_test)\n",
    "cost_test = mean_squared_error(y_test, y_test_pred)\n",
    "print ('Test prediction cost with training: ', cost_test)"
   ]
  },
  {
   "cell_type": "code",
   "execution_count": 8,
   "id": "904c5c0c",
   "metadata": {},
   "outputs": [
    {
     "name": "stdout",
     "output_type": "stream",
     "text": [
      "Test prediction cost with training:  0.03333333333333333\n"
     ]
    }
   ],
   "source": [
    "y_test_pred = clf.predict(X_train)\n",
    "cost_test = mean_squared_error(y_train, y_test_pred)\n",
    "print ('Test prediction cost with training: ', cost_test)"
   ]
  },
  {
   "cell_type": "markdown",
   "id": "938fc234",
   "metadata": {},
   "source": [
    "# Reduce the dimention of the iris dataset (3) with MDS no metric"
   ]
  },
  {
   "cell_type": "code",
   "execution_count": 9,
   "id": "c866aece",
   "metadata": {},
   "outputs": [
    {
     "name": "stdout",
     "output_type": "stream",
     "text": [
      "Shape of X_train transformed:  (150, 3)\n"
     ]
    }
   ],
   "source": [
    "from sklearn.manifold import MDS\n",
    "embedding = MDS(n_components=3, metric=False) \n",
    "X_transformed = embedding.fit_transform(X_org)\n",
    "print ('Shape of X_train transformed: ', X_transformed.shape)"
   ]
  },
  {
   "cell_type": "code",
   "execution_count": 10,
   "id": "fb20ee99",
   "metadata": {},
   "outputs": [
    {
     "name": "stdout",
     "output_type": "stream",
     "text": [
      "Training target statistics: Counter({1: 44, 0: 39, 2: 37})\n",
      "Testing target statistics: Counter({2: 13, 0: 11, 1: 6})\n"
     ]
    }
   ],
   "source": [
    "from sklearn.model_selection import train_test_split\n",
    "from collections import Counter\n",
    "\n",
    "X_train_bal, X_test_bal, y_train_bal, y_test_bal = train_test_split(X_transformed, y_org, test_size=0.2, random_state=100)\n",
    "print(f\"Training target statistics: {Counter(y_train_bal)}\")\n",
    "print(f\"Testing target statistics: {Counter(y_test_bal)}\")"
   ]
  },
  {
   "cell_type": "code",
   "execution_count": 11,
   "id": "fbe7ba8b",
   "metadata": {},
   "outputs": [
    {
     "name": "stdout",
     "output_type": "stream",
     "text": [
      "Test prediction cost with training:  1.1666666666666667\n"
     ]
    }
   ],
   "source": [
    "X_train = X_train_bal\n",
    "y_train = y_train_bal\n",
    "X_test = X_test_bal\n",
    "y_test = y_test_bal\n",
    "\n",
    "clf = MLPClassifier(solver='sgd', max_iter=1000).fit(X_train, y_train)\n",
    "y_test_pred = clf.predict(X_test)\n",
    "cost_test = mean_squared_error(y_test, y_test_pred)\n",
    "print ('Test prediction cost with training: ', cost_test)"
   ]
  },
  {
   "cell_type": "code",
   "execution_count": 12,
   "id": "2126f9b4",
   "metadata": {},
   "outputs": [
    {
     "name": "stdout",
     "output_type": "stream",
     "text": [
      "Test prediction cost with training:  1.0\n"
     ]
    }
   ],
   "source": [
    "y_test_pred = clf.predict(X_train)\n",
    "cost_test = mean_squared_error(y_train, y_test_pred)\n",
    "print ('Test prediction cost with training: ', cost_test)"
   ]
  },
  {
   "cell_type": "markdown",
   "id": "ca5412ca",
   "metadata": {},
   "source": [
    "# Reduce the dimention of the iris dataset (2) with MDS"
   ]
  },
  {
   "cell_type": "code",
   "execution_count": 13,
   "id": "f76d7171",
   "metadata": {},
   "outputs": [
    {
     "name": "stdout",
     "output_type": "stream",
     "text": [
      "Shape of X_train transformed:  (150, 2)\n"
     ]
    }
   ],
   "source": [
    "from sklearn.manifold import MDS\n",
    "embedding = MDS(n_components=2)#, metric=False) 10\n",
    "X_transformed = embedding.fit_transform(X_org)\n",
    "print ('Shape of X_train transformed: ', X_transformed.shape)"
   ]
  },
  {
   "cell_type": "code",
   "execution_count": 14,
   "id": "a0313f1a",
   "metadata": {},
   "outputs": [
    {
     "name": "stdout",
     "output_type": "stream",
     "text": [
      "Training target statistics: Counter({1: 44, 0: 39, 2: 37})\n",
      "Testing target statistics: Counter({2: 13, 0: 11, 1: 6})\n"
     ]
    }
   ],
   "source": [
    "from sklearn.model_selection import train_test_split\n",
    "from collections import Counter\n",
    "\n",
    "X_train_bal, X_test_bal, y_train_bal, y_test_bal = train_test_split(X_transformed, y_org, test_size=0.2, random_state=100)\n",
    "print(f\"Training target statistics: {Counter(y_train_bal)}\")\n",
    "print(f\"Testing target statistics: {Counter(y_test_bal)}\")"
   ]
  },
  {
   "cell_type": "code",
   "execution_count": 15,
   "id": "d7b7c1a1",
   "metadata": {},
   "outputs": [
    {
     "name": "stdout",
     "output_type": "stream",
     "text": [
      "Test prediction cost with training:  0.03333333333333333\n"
     ]
    },
    {
     "name": "stderr",
     "output_type": "stream",
     "text": [
      "C:\\Users\\USER\\anaconda3\\envs\\qpso-env\\lib\\site-packages\\sklearn\\neural_network\\_multilayer_perceptron.py:692: ConvergenceWarning: Stochastic Optimizer: Maximum iterations (1000) reached and the optimization hasn't converged yet.\n",
      "  warnings.warn(\n"
     ]
    }
   ],
   "source": [
    "X_train = X_train_bal\n",
    "y_train = y_train_bal\n",
    "X_test = X_test_bal\n",
    "y_test = y_test_bal\n",
    "\n",
    "clf = MLPClassifier(solver='sgd', max_iter=1000).fit(X_train, y_train)\n",
    "y_test_pred = clf.predict(X_test)\n",
    "cost_test = mean_squared_error(y_test, y_test_pred)\n",
    "print ('Test prediction cost with training: ', cost_test)"
   ]
  },
  {
   "cell_type": "code",
   "execution_count": 16,
   "id": "7668d6ae",
   "metadata": {},
   "outputs": [
    {
     "name": "stdout",
     "output_type": "stream",
     "text": [
      "Test prediction cost with training:  0.041666666666666664\n"
     ]
    }
   ],
   "source": [
    "y_test_pred = clf.predict(X_train)\n",
    "cost_test = mean_squared_error(y_train, y_test_pred)\n",
    "print ('Test prediction cost with training: ', cost_test)"
   ]
  },
  {
   "cell_type": "markdown",
   "id": "6a7cfac6",
   "metadata": {},
   "source": [
    "# Reduce the dimention of the iris dataset (1) with MDS"
   ]
  },
  {
   "cell_type": "code",
   "execution_count": 17,
   "id": "34c1c27a",
   "metadata": {},
   "outputs": [
    {
     "name": "stdout",
     "output_type": "stream",
     "text": [
      "Shape of X_train transformed:  (150, 1)\n"
     ]
    }
   ],
   "source": [
    "from sklearn.manifold import MDS\n",
    "embedding = MDS(n_components=1)#, metric=False) 10\n",
    "X_transformed = embedding.fit_transform(X_org)\n",
    "print ('Shape of X_train transformed: ', X_transformed.shape)"
   ]
  },
  {
   "cell_type": "code",
   "execution_count": 18,
   "id": "1e17af71",
   "metadata": {},
   "outputs": [
    {
     "name": "stdout",
     "output_type": "stream",
     "text": [
      "Training target statistics: Counter({1: 44, 0: 39, 2: 37})\n",
      "Testing target statistics: Counter({2: 13, 0: 11, 1: 6})\n"
     ]
    }
   ],
   "source": [
    "from sklearn.model_selection import train_test_split\n",
    "from collections import Counter\n",
    "\n",
    "X_train_bal, X_test_bal, y_train_bal, y_test_bal = train_test_split(X_transformed, y_org, test_size=0.2, random_state=100)\n",
    "print(f\"Training target statistics: {Counter(y_train_bal)}\")\n",
    "print(f\"Testing target statistics: {Counter(y_test_bal)}\")"
   ]
  },
  {
   "cell_type": "code",
   "execution_count": 19,
   "id": "51cd6e14",
   "metadata": {},
   "outputs": [
    {
     "name": "stdout",
     "output_type": "stream",
     "text": [
      "Test prediction cost with training:  0.16666666666666666\n"
     ]
    },
    {
     "name": "stderr",
     "output_type": "stream",
     "text": [
      "C:\\Users\\USER\\anaconda3\\envs\\qpso-env\\lib\\site-packages\\sklearn\\neural_network\\_multilayer_perceptron.py:692: ConvergenceWarning: Stochastic Optimizer: Maximum iterations (1000) reached and the optimization hasn't converged yet.\n",
      "  warnings.warn(\n"
     ]
    }
   ],
   "source": [
    "X_train = X_train_bal\n",
    "y_train = y_train_bal\n",
    "X_test = X_test_bal\n",
    "y_test = y_test_bal\n",
    "\n",
    "clf = MLPClassifier(solver='sgd', max_iter=1000).fit(X_train, y_train)\n",
    "y_test_pred = clf.predict(X_test)\n",
    "cost_test = mean_squared_error(y_test, y_test_pred)\n",
    "print ('Test prediction cost with training: ', cost_test)"
   ]
  },
  {
   "cell_type": "code",
   "execution_count": 20,
   "id": "7b48682d",
   "metadata": {},
   "outputs": [
    {
     "name": "stdout",
     "output_type": "stream",
     "text": [
      "Test prediction cost with training:  0.08333333333333333\n"
     ]
    }
   ],
   "source": [
    "y_test_pred = clf.predict(X_train)\n",
    "cost_test = mean_squared_error(y_train, y_test_pred)\n",
    "print ('Test prediction cost with training: ', cost_test)"
   ]
  },
  {
   "cell_type": "markdown",
   "id": "823e433a",
   "metadata": {},
   "source": [
    "# Reduce the dimention of the iris dataset (3) with TSNE "
   ]
  },
  {
   "cell_type": "code",
   "execution_count": 21,
   "id": "f2a75996",
   "metadata": {},
   "outputs": [
    {
     "name": "stdout",
     "output_type": "stream",
     "text": [
      "Shape of X_train transformed:  (150, 3)\n"
     ]
    }
   ],
   "source": [
    "from sklearn.manifold import TSNE\n",
    "X_embedded = TSNE(n_components=3, learning_rate='auto', init='random').fit_transform(X_org)\n",
    "print ('Shape of X_train transformed: ', X_embedded.shape)"
   ]
  },
  {
   "cell_type": "code",
   "execution_count": 22,
   "id": "f3a1b6c4",
   "metadata": {},
   "outputs": [
    {
     "name": "stdout",
     "output_type": "stream",
     "text": [
      "Training target statistics: Counter({1: 44, 0: 39, 2: 37})\n",
      "Testing target statistics: Counter({2: 13, 0: 11, 1: 6})\n"
     ]
    }
   ],
   "source": [
    "from sklearn.model_selection import train_test_split\n",
    "from collections import Counter\n",
    "\n",
    "X_train_bal, X_test_bal, y_train_bal, y_test_bal = train_test_split(X_embedded, y_org, test_size=0.2, random_state=100)\n",
    "print(f\"Training target statistics: {Counter(y_train_bal)}\")\n",
    "print(f\"Testing target statistics: {Counter(y_test_bal)}\")"
   ]
  },
  {
   "cell_type": "code",
   "execution_count": 23,
   "id": "a102dc14",
   "metadata": {},
   "outputs": [
    {
     "name": "stdout",
     "output_type": "stream",
     "text": [
      "Test prediction cost with training:  0.06666666666666667\n"
     ]
    }
   ],
   "source": [
    "X_train = X_train_bal\n",
    "y_train = y_train_bal\n",
    "X_test = X_test_bal\n",
    "y_test = y_test_bal\n",
    "\n",
    "clf = MLPClassifier(solver='sgd', max_iter=1000).fit(X_train, y_train)\n",
    "y_test_pred = clf.predict(X_test)\n",
    "cost_test = mean_squared_error(y_test, y_test_pred)\n",
    "print ('Test prediction cost with training: ', cost_test)"
   ]
  },
  {
   "cell_type": "code",
   "execution_count": 24,
   "id": "d89d03af",
   "metadata": {},
   "outputs": [
    {
     "name": "stdout",
     "output_type": "stream",
     "text": [
      "Test prediction cost with training:  0.10833333333333334\n"
     ]
    }
   ],
   "source": [
    "y_test_pred = clf.predict(X_train)\n",
    "cost_test = mean_squared_error(y_train, y_test_pred)\n",
    "print ('Test prediction cost with training: ', cost_test)"
   ]
  },
  {
   "cell_type": "markdown",
   "id": "86496cb5",
   "metadata": {},
   "source": [
    "# Reduce the dimention of the iris dataset (2) with TSNE "
   ]
  },
  {
   "cell_type": "code",
   "execution_count": 25,
   "id": "d19830ea",
   "metadata": {},
   "outputs": [
    {
     "name": "stdout",
     "output_type": "stream",
     "text": [
      "Shape of X_train transformed:  (150, 2)\n"
     ]
    }
   ],
   "source": [
    "from sklearn.manifold import TSNE\n",
    "X_embedded = TSNE(n_components=2, learning_rate='auto', init='random').fit_transform(X_org)\n",
    "print ('Shape of X_train transformed: ',X_embedded.shape)"
   ]
  },
  {
   "cell_type": "code",
   "execution_count": 26,
   "id": "7ce6e5f8",
   "metadata": {},
   "outputs": [
    {
     "name": "stdout",
     "output_type": "stream",
     "text": [
      "Training target statistics: Counter({1: 44, 0: 39, 2: 37})\n",
      "Testing target statistics: Counter({2: 13, 0: 11, 1: 6})\n"
     ]
    }
   ],
   "source": [
    "from sklearn.model_selection import train_test_split\n",
    "from collections import Counter\n",
    "\n",
    "X_train_bal, X_test_bal, y_train_bal, y_test_bal = train_test_split(X_embedded, y_org, test_size=0.2, random_state=100)\n",
    "print(f\"Training target statistics: {Counter(y_train_bal)}\")\n",
    "print(f\"Testing target statistics: {Counter(y_test_bal)}\")"
   ]
  },
  {
   "cell_type": "code",
   "execution_count": 27,
   "id": "70454d00",
   "metadata": {},
   "outputs": [
    {
     "name": "stdout",
     "output_type": "stream",
     "text": [
      "Test prediction cost with training:  0.1\n"
     ]
    }
   ],
   "source": [
    "X_train = X_train_bal\n",
    "y_train = y_train_bal\n",
    "X_test = X_test_bal\n",
    "y_test = y_test_bal\n",
    "\n",
    "clf = MLPClassifier(solver='sgd', max_iter=1000).fit(X_train, y_train)\n",
    "y_test_pred = clf.predict(X_test)\n",
    "cost_test = mean_squared_error(y_test, y_test_pred)\n",
    "print ('Test prediction cost with training: ', cost_test)"
   ]
  },
  {
   "cell_type": "code",
   "execution_count": 28,
   "id": "c5ff3144",
   "metadata": {},
   "outputs": [
    {
     "name": "stdout",
     "output_type": "stream",
     "text": [
      "Test prediction cost with training:  0.15\n"
     ]
    }
   ],
   "source": [
    "y_test_pred = clf.predict(X_train)\n",
    "cost_test = mean_squared_error(y_train, y_test_pred)\n",
    "print ('Test prediction cost with training: ', cost_test)"
   ]
  },
  {
   "cell_type": "markdown",
   "id": "4ad3cd26",
   "metadata": {},
   "source": [
    "# Reduce the dimention of the iris dataset (1) with TSNE"
   ]
  },
  {
   "cell_type": "code",
   "execution_count": 29,
   "id": "343ea1de",
   "metadata": {},
   "outputs": [
    {
     "name": "stdout",
     "output_type": "stream",
     "text": [
      "Shape of X_train transformed:  (150, 1)\n"
     ]
    }
   ],
   "source": [
    "from sklearn.manifold import TSNE\n",
    "X_embedded = TSNE(n_components=1, learning_rate='auto', init='random').fit_transform(X_org)\n",
    "print ('Shape of X_train transformed: ',X_embedded.shape)"
   ]
  },
  {
   "cell_type": "code",
   "execution_count": 30,
   "id": "ad52b22e",
   "metadata": {},
   "outputs": [
    {
     "name": "stdout",
     "output_type": "stream",
     "text": [
      "Training target statistics: Counter({1: 44, 0: 39, 2: 37})\n",
      "Testing target statistics: Counter({2: 13, 0: 11, 1: 6})\n"
     ]
    }
   ],
   "source": [
    "from sklearn.model_selection import train_test_split\n",
    "from collections import Counter\n",
    "\n",
    "X_train_bal, X_test_bal, y_train_bal, y_test_bal = train_test_split(X_embedded, y_org, test_size=0.2, random_state=100)\n",
    "print(f\"Training target statistics: {Counter(y_train_bal)}\")\n",
    "print(f\"Testing target statistics: {Counter(y_test_bal)}\")"
   ]
  },
  {
   "cell_type": "code",
   "execution_count": 31,
   "id": "bd77d25e",
   "metadata": {},
   "outputs": [
    {
     "name": "stdout",
     "output_type": "stream",
     "text": [
      "Test prediction cost with training:  0.03333333333333333\n"
     ]
    },
    {
     "name": "stderr",
     "output_type": "stream",
     "text": [
      "C:\\Users\\USER\\anaconda3\\envs\\qpso-env\\lib\\site-packages\\sklearn\\neural_network\\_multilayer_perceptron.py:692: ConvergenceWarning: Stochastic Optimizer: Maximum iterations (1000) reached and the optimization hasn't converged yet.\n",
      "  warnings.warn(\n"
     ]
    }
   ],
   "source": [
    "X_train = X_train_bal\n",
    "y_train = y_train_bal\n",
    "X_test = X_test_bal\n",
    "y_test = y_test_bal\n",
    "\n",
    "clf = MLPClassifier(solver='sgd', max_iter=1000).fit(X_train, y_train)\n",
    "y_test_pred = clf.predict(X_test)\n",
    "cost_test = mean_squared_error(y_test, y_test_pred)\n",
    "print ('Test prediction cost with training: ', cost_test)"
   ]
  },
  {
   "cell_type": "code",
   "execution_count": 32,
   "id": "f1232e3f",
   "metadata": {},
   "outputs": [
    {
     "name": "stdout",
     "output_type": "stream",
     "text": [
      "Test prediction cost with training:  0.03333333333333333\n"
     ]
    }
   ],
   "source": [
    "y_test_pred = clf.predict(X_train)\n",
    "cost_test = mean_squared_error(y_train, y_test_pred)\n",
    "print ('Test prediction cost with training: ', cost_test)"
   ]
  },
  {
   "cell_type": "markdown",
   "id": "43532f05",
   "metadata": {},
   "source": [
    "# Reduce the dimention of the iris dataset (3) with Isomap "
   ]
  },
  {
   "cell_type": "code",
   "execution_count": 33,
   "id": "aeffd199",
   "metadata": {},
   "outputs": [
    {
     "name": "stdout",
     "output_type": "stream",
     "text": [
      "Shape of X_train transformed:  (150, 3)\n"
     ]
    }
   ],
   "source": [
    "from sklearn.manifold import Isomap\n",
    "embedding = Isomap(n_components=3, n_neighbors=100)\n",
    "X_transformed = embedding.fit_transform(X_org)\n",
    "print ('Shape of X_train transformed: ', X_transformed.shape)"
   ]
  },
  {
   "cell_type": "code",
   "execution_count": 34,
   "id": "94658333",
   "metadata": {},
   "outputs": [
    {
     "name": "stdout",
     "output_type": "stream",
     "text": [
      "Training target statistics: Counter({1: 44, 0: 39, 2: 37})\n",
      "Testing target statistics: Counter({2: 13, 0: 11, 1: 6})\n"
     ]
    }
   ],
   "source": [
    "from sklearn.model_selection import train_test_split\n",
    "from collections import Counter\n",
    "\n",
    "X_train_bal, X_test_bal, y_train_bal, y_test_bal = train_test_split(X_transformed, y_org, test_size=0.2, random_state=100)\n",
    "print(f\"Training target statistics: {Counter(y_train_bal)}\")\n",
    "print(f\"Testing target statistics: {Counter(y_test_bal)}\")"
   ]
  },
  {
   "cell_type": "code",
   "execution_count": 35,
   "id": "09182ae3",
   "metadata": {},
   "outputs": [
    {
     "name": "stdout",
     "output_type": "stream",
     "text": [
      "Test prediction cost with training:  0.03333333333333333\n"
     ]
    },
    {
     "name": "stderr",
     "output_type": "stream",
     "text": [
      "C:\\Users\\USER\\anaconda3\\envs\\qpso-env\\lib\\site-packages\\sklearn\\neural_network\\_multilayer_perceptron.py:692: ConvergenceWarning: Stochastic Optimizer: Maximum iterations (1000) reached and the optimization hasn't converged yet.\n",
      "  warnings.warn(\n"
     ]
    }
   ],
   "source": [
    "X_train = X_train_bal\n",
    "y_train = y_train_bal\n",
    "X_test = X_test_bal\n",
    "y_test = y_test_bal\n",
    "\n",
    "clf = MLPClassifier(solver='sgd', max_iter=1000).fit(X_train, y_train)\n",
    "y_test_pred = clf.predict(X_test)\n",
    "cost_test = mean_squared_error(y_test, y_test_pred)\n",
    "print ('Test prediction cost with training: ', cost_test)"
   ]
  },
  {
   "cell_type": "code",
   "execution_count": 36,
   "id": "1453c243",
   "metadata": {},
   "outputs": [
    {
     "name": "stdout",
     "output_type": "stream",
     "text": [
      "Test prediction cost with training:  0.03333333333333333\n"
     ]
    }
   ],
   "source": [
    "y_test_pred = clf.predict(X_train)\n",
    "cost_test = mean_squared_error(y_train, y_test_pred)\n",
    "print ('Test prediction cost with training: ', cost_test)"
   ]
  },
  {
   "cell_type": "markdown",
   "id": "14137967",
   "metadata": {},
   "source": [
    "# Reduce the dimention of the iris dataset (2) with Isomap "
   ]
  },
  {
   "cell_type": "code",
   "execution_count": 37,
   "id": "090f4d74",
   "metadata": {},
   "outputs": [
    {
     "name": "stdout",
     "output_type": "stream",
     "text": [
      "Shape of X_train transformed:  (150, 2)\n"
     ]
    }
   ],
   "source": [
    "from sklearn.manifold import Isomap\n",
    "embedding = Isomap(n_components=2, n_neighbors=100)\n",
    "X_transformed = embedding.fit_transform(X_org)\n",
    "print ('Shape of X_train transformed: ', X_transformed.shape)"
   ]
  },
  {
   "cell_type": "code",
   "execution_count": 38,
   "id": "841a9135",
   "metadata": {},
   "outputs": [
    {
     "name": "stdout",
     "output_type": "stream",
     "text": [
      "Training target statistics: Counter({1: 44, 0: 39, 2: 37})\n",
      "Testing target statistics: Counter({2: 13, 0: 11, 1: 6})\n"
     ]
    }
   ],
   "source": [
    "from sklearn.model_selection import train_test_split\n",
    "from collections import Counter\n",
    "\n",
    "X_train_bal, X_test_bal, y_train_bal, y_test_bal = train_test_split(X_transformed, y_org, test_size=0.2, random_state=100)\n",
    "print(f\"Training target statistics: {Counter(y_train_bal)}\")\n",
    "print(f\"Testing target statistics: {Counter(y_test_bal)}\")"
   ]
  },
  {
   "cell_type": "code",
   "execution_count": 39,
   "id": "bc8e8495",
   "metadata": {},
   "outputs": [
    {
     "name": "stdout",
     "output_type": "stream",
     "text": [
      "Test prediction cost with training:  0.03333333333333333\n"
     ]
    },
    {
     "name": "stderr",
     "output_type": "stream",
     "text": [
      "C:\\Users\\USER\\anaconda3\\envs\\qpso-env\\lib\\site-packages\\sklearn\\neural_network\\_multilayer_perceptron.py:692: ConvergenceWarning: Stochastic Optimizer: Maximum iterations (1000) reached and the optimization hasn't converged yet.\n",
      "  warnings.warn(\n"
     ]
    }
   ],
   "source": [
    "X_train = X_train_bal\n",
    "y_train = y_train_bal\n",
    "X_test = X_test_bal\n",
    "y_test = y_test_bal\n",
    "\n",
    "clf = MLPClassifier(solver='sgd', max_iter=1000).fit(X_train, y_train)\n",
    "y_test_pred = clf.predict(X_test)\n",
    "cost_test = mean_squared_error(y_test, y_test_pred)\n",
    "print ('Test prediction cost with training: ', cost_test)"
   ]
  },
  {
   "cell_type": "code",
   "execution_count": 40,
   "id": "42de14d3",
   "metadata": {},
   "outputs": [
    {
     "name": "stdout",
     "output_type": "stream",
     "text": [
      "Test prediction cost with training:  0.05\n"
     ]
    }
   ],
   "source": [
    "y_test_pred = clf.predict(X_train)\n",
    "cost_test = mean_squared_error(y_train, y_test_pred)\n",
    "print ('Test prediction cost with training: ', cost_test)"
   ]
  },
  {
   "cell_type": "markdown",
   "id": "e9b6d106",
   "metadata": {},
   "source": [
    "# Reduce the dimention of the iris dataset (1) with Isomap "
   ]
  },
  {
   "cell_type": "code",
   "execution_count": 41,
   "id": "335f5ee7",
   "metadata": {},
   "outputs": [
    {
     "name": "stdout",
     "output_type": "stream",
     "text": [
      "Shape of X_train transformed:  (150, 1)\n"
     ]
    }
   ],
   "source": [
    "from sklearn.manifold import Isomap\n",
    "embedding = Isomap(n_components=1, n_neighbors=100)\n",
    "X_transformed = embedding.fit_transform(X_org)\n",
    "print ('Shape of X_train transformed: ', X_transformed.shape)"
   ]
  },
  {
   "cell_type": "code",
   "execution_count": 42,
   "id": "3a9b62a3",
   "metadata": {},
   "outputs": [
    {
     "name": "stdout",
     "output_type": "stream",
     "text": [
      "Training target statistics: Counter({1: 44, 0: 39, 2: 37})\n",
      "Testing target statistics: Counter({2: 13, 0: 11, 1: 6})\n"
     ]
    }
   ],
   "source": [
    "from sklearn.model_selection import train_test_split\n",
    "from collections import Counter\n",
    "\n",
    "X_train_bal, X_test_bal, y_train_bal, y_test_bal = train_test_split(X_transformed, y_org, test_size=0.2, random_state=100)\n",
    "print(f\"Training target statistics: {Counter(y_train_bal)}\")\n",
    "print(f\"Testing target statistics: {Counter(y_test_bal)}\")"
   ]
  },
  {
   "cell_type": "code",
   "execution_count": 43,
   "id": "46f299a1",
   "metadata": {},
   "outputs": [
    {
     "name": "stdout",
     "output_type": "stream",
     "text": [
      "Test prediction cost with training:  0.03333333333333333\n"
     ]
    }
   ],
   "source": [
    "X_train = X_train_bal\n",
    "y_train = y_train_bal\n",
    "X_test = X_test_bal\n",
    "y_test = y_test_bal\n",
    "\n",
    "clf = MLPClassifier(solver='sgd', max_iter=1000).fit(X_train, y_train)\n",
    "y_test_pred = clf.predict(X_test)\n",
    "cost_test = mean_squared_error(y_test, y_test_pred)\n",
    "print ('Test prediction cost with training: ', cost_test)"
   ]
  },
  {
   "cell_type": "code",
   "execution_count": 44,
   "id": "b091ca15",
   "metadata": {},
   "outputs": [
    {
     "name": "stdout",
     "output_type": "stream",
     "text": [
      "Test prediction cost with training:  0.075\n"
     ]
    }
   ],
   "source": [
    "y_test_pred = clf.predict(X_train)\n",
    "cost_test = mean_squared_error(y_train, y_test_pred)\n",
    "print ('Test prediction cost with training: ', cost_test)"
   ]
  },
  {
   "cell_type": "markdown",
   "id": "e54bbacf",
   "metadata": {},
   "source": [
    "# Reduce the dimention of the iris dataset (3) with PCA"
   ]
  },
  {
   "cell_type": "code",
   "execution_count": 45,
   "id": "824c721c",
   "metadata": {},
   "outputs": [
    {
     "name": "stdout",
     "output_type": "stream",
     "text": [
      "Shape of X_train transformed:  (150, 3)\n"
     ]
    }
   ],
   "source": [
    "from sklearn.preprocessing import StandardScaler\n",
    "# Create the object\n",
    "scaler = StandardScaler()\n",
    "# Calculate the mean and standard deviation for each variable in the dataset \n",
    "scaler.fit(X_org)\n",
    "# The transformed (scaled) values of X are stored in the variable X_scaled which is also \n",
    "# the same two-dimensional Numpy array.\n",
    "X_scaled = scaler.transform(X_org)\n",
    "from sklearn.decomposition import PCA\n",
    "embedding = PCA(n_components=3)\n",
    "embedding.fit(X_scaled)\n",
    "X_transformed = embedding.transform(X_scaled)\n",
    "print('Shape of X_train transformed: ', X_transformed.shape)"
   ]
  },
  {
   "cell_type": "code",
   "execution_count": 46,
   "id": "e66b9636",
   "metadata": {},
   "outputs": [
    {
     "name": "stdout",
     "output_type": "stream",
     "text": [
      "Training target statistics: Counter({1: 44, 0: 39, 2: 37})\n",
      "Testing target statistics: Counter({2: 13, 0: 11, 1: 6})\n"
     ]
    }
   ],
   "source": [
    "from sklearn.model_selection import train_test_split\n",
    "from collections import Counter\n",
    "\n",
    "X_train_bal, X_test_bal, y_train_bal, y_test_bal = train_test_split(X_transformed, y_org, test_size=0.2, random_state=100)\n",
    "print(f\"Training target statistics: {Counter(y_train_bal)}\")\n",
    "print(f\"Testing target statistics: {Counter(y_test_bal)}\")"
   ]
  },
  {
   "cell_type": "code",
   "execution_count": 47,
   "id": "ab3086ec",
   "metadata": {},
   "outputs": [
    {
     "name": "stdout",
     "output_type": "stream",
     "text": [
      "Test prediction cost with training:  0.03333333333333333\n"
     ]
    },
    {
     "name": "stderr",
     "output_type": "stream",
     "text": [
      "C:\\Users\\USER\\anaconda3\\envs\\qpso-env\\lib\\site-packages\\sklearn\\neural_network\\_multilayer_perceptron.py:692: ConvergenceWarning: Stochastic Optimizer: Maximum iterations (1000) reached and the optimization hasn't converged yet.\n",
      "  warnings.warn(\n"
     ]
    }
   ],
   "source": [
    "X_train = X_train_bal\n",
    "y_train = y_train_bal\n",
    "X_test = X_test_bal\n",
    "y_test = y_test_bal\n",
    "\n",
    "clf = MLPClassifier(solver='sgd', max_iter=1000).fit(X_train, y_train)\n",
    "y_test_pred = clf.predict(X_test)\n",
    "cost_test = mean_squared_error(y_test, y_test_pred)\n",
    "print ('Test prediction cost with training: ', cost_test)"
   ]
  },
  {
   "cell_type": "code",
   "execution_count": 48,
   "id": "b1e12153",
   "metadata": {},
   "outputs": [
    {
     "name": "stdout",
     "output_type": "stream",
     "text": [
      "Test prediction cost with training:  0.05\n"
     ]
    }
   ],
   "source": [
    "y_test_pred = clf.predict(X_train)\n",
    "cost_test = mean_squared_error(y_train, y_test_pred)\n",
    "print ('Test prediction cost with training: ', cost_test)"
   ]
  },
  {
   "cell_type": "markdown",
   "id": "5c5e5244",
   "metadata": {},
   "source": [
    "# Reduce the dimention of the iris dataset (2) with PCA"
   ]
  },
  {
   "cell_type": "code",
   "execution_count": 49,
   "id": "1c9e9e39",
   "metadata": {},
   "outputs": [
    {
     "name": "stdout",
     "output_type": "stream",
     "text": [
      "Shape of X_train transformed:  (150, 2)\n"
     ]
    }
   ],
   "source": [
    "from sklearn.preprocessing import StandardScaler\n",
    "# Create the object\n",
    "scaler = StandardScaler()\n",
    "# Calculate the mean and standard deviation for each variable in the dataset \n",
    "scaler.fit(X_org)\n",
    "# The transformed (scaled) values of X are stored in the variable X_scaled which is also \n",
    "# the same two-dimensional Numpy array.\n",
    "X_scaled = scaler.transform(X_org)\n",
    "from sklearn.decomposition import PCA\n",
    "embedding = PCA(n_components=2)\n",
    "embedding.fit(X_scaled)\n",
    "X_transformed = embedding.transform(X_scaled)\n",
    "print('Shape of X_train transformed: ', X_transformed.shape)"
   ]
  },
  {
   "cell_type": "code",
   "execution_count": 50,
   "id": "cdda43f5",
   "metadata": {},
   "outputs": [
    {
     "name": "stdout",
     "output_type": "stream",
     "text": [
      "Training target statistics: Counter({1: 44, 0: 39, 2: 37})\n",
      "Testing target statistics: Counter({2: 13, 0: 11, 1: 6})\n"
     ]
    }
   ],
   "source": [
    "from sklearn.model_selection import train_test_split\n",
    "from collections import Counter\n",
    "\n",
    "X_train_bal, X_test_bal, y_train_bal, y_test_bal = train_test_split(X_transformed, y_org, test_size=0.2, random_state=100)\n",
    "print(f\"Training target statistics: {Counter(y_train_bal)}\")\n",
    "print(f\"Testing target statistics: {Counter(y_test_bal)}\")"
   ]
  },
  {
   "cell_type": "code",
   "execution_count": 51,
   "id": "49575836",
   "metadata": {},
   "outputs": [
    {
     "name": "stdout",
     "output_type": "stream",
     "text": [
      "Test prediction cost with training:  0.06666666666666667\n"
     ]
    },
    {
     "name": "stderr",
     "output_type": "stream",
     "text": [
      "C:\\Users\\USER\\anaconda3\\envs\\qpso-env\\lib\\site-packages\\sklearn\\neural_network\\_multilayer_perceptron.py:692: ConvergenceWarning: Stochastic Optimizer: Maximum iterations (1000) reached and the optimization hasn't converged yet.\n",
      "  warnings.warn(\n"
     ]
    }
   ],
   "source": [
    "X_train = X_train_bal\n",
    "y_train = y_train_bal\n",
    "X_test = X_test_bal\n",
    "y_test = y_test_bal\n",
    "\n",
    "clf = MLPClassifier(solver='sgd', max_iter=1000).fit(X_train, y_train)\n",
    "y_test_pred = clf.predict(X_test)\n",
    "cost_test = mean_squared_error(y_test, y_test_pred)\n",
    "print ('Test prediction cost with training: ', cost_test)"
   ]
  },
  {
   "cell_type": "code",
   "execution_count": 52,
   "id": "bbbfbb2f",
   "metadata": {},
   "outputs": [
    {
     "name": "stdout",
     "output_type": "stream",
     "text": [
      "Test prediction cost with training:  0.09166666666666666\n"
     ]
    }
   ],
   "source": [
    "y_test_pred = clf.predict(X_train)\n",
    "cost_test = mean_squared_error(y_train, y_test_pred)\n",
    "print ('Test prediction cost with training: ', cost_test)"
   ]
  },
  {
   "cell_type": "markdown",
   "id": "8d44ddb9",
   "metadata": {},
   "source": [
    "# Reduce the dimention of the iris dataset (1) with PCA"
   ]
  },
  {
   "cell_type": "code",
   "execution_count": 53,
   "id": "408c693d",
   "metadata": {},
   "outputs": [
    {
     "name": "stdout",
     "output_type": "stream",
     "text": [
      "Shape of X_train transformed:  (150, 1)\n"
     ]
    }
   ],
   "source": [
    "from sklearn.preprocessing import StandardScaler\n",
    "# Create the object\n",
    "scaler = StandardScaler()\n",
    "# Calculate the mean and standard deviation for each variable in the dataset \n",
    "scaler.fit(X_org)\n",
    "# The transformed (scaled) values of X are stored in the variable X_scaled which is also \n",
    "# the same two-dimensional Numpy array.\n",
    "X_scaled = scaler.transform(X_org)\n",
    "from sklearn.decomposition import PCA\n",
    "embedding = PCA(n_components=1)\n",
    "embedding.fit(X_scaled)\n",
    "X_transformed = embedding.transform(X_scaled)\n",
    "print('Shape of X_train transformed: ', X_transformed.shape)"
   ]
  },
  {
   "cell_type": "code",
   "execution_count": 54,
   "id": "ab00e51a",
   "metadata": {},
   "outputs": [
    {
     "name": "stdout",
     "output_type": "stream",
     "text": [
      "Training target statistics: Counter({1: 44, 0: 39, 2: 37})\n",
      "Testing target statistics: Counter({2: 13, 0: 11, 1: 6})\n"
     ]
    }
   ],
   "source": [
    "from sklearn.model_selection import train_test_split\n",
    "from collections import Counter\n",
    "\n",
    "X_train_bal, X_test_bal, y_train_bal, y_test_bal = train_test_split(X_transformed, y_org, test_size=0.2, random_state=100)\n",
    "print(f\"Training target statistics: {Counter(y_train_bal)}\")\n",
    "print(f\"Testing target statistics: {Counter(y_test_bal)}\")"
   ]
  },
  {
   "cell_type": "code",
   "execution_count": 55,
   "id": "357c4782",
   "metadata": {},
   "outputs": [
    {
     "name": "stdout",
     "output_type": "stream",
     "text": [
      "Test prediction cost with training:  0.06666666666666667\n"
     ]
    }
   ],
   "source": [
    "X_train = X_train_bal\n",
    "y_train = y_train_bal\n",
    "X_test = X_test_bal\n",
    "y_test = y_test_bal\n",
    "\n",
    "clf = MLPClassifier(solver='sgd', max_iter=1000).fit(X_train, y_train)\n",
    "y_test_pred = clf.predict(X_test)\n",
    "cost_test = mean_squared_error(y_test, y_test_pred)\n",
    "print ('Test prediction cost with training: ', cost_test)"
   ]
  },
  {
   "cell_type": "code",
   "execution_count": 56,
   "id": "b92d4826",
   "metadata": {},
   "outputs": [
    {
     "name": "stdout",
     "output_type": "stream",
     "text": [
      "Test prediction cost with training:  0.10833333333333334\n"
     ]
    }
   ],
   "source": [
    "y_test_pred = clf.predict(X_train)\n",
    "cost_test = mean_squared_error(y_train, y_test_pred)\n",
    "print ('Test prediction cost with training: ', cost_test)"
   ]
  }
 ],
 "metadata": {
  "kernelspec": {
   "display_name": "Python (qpso-env)",
   "language": "python",
   "name": "qpso-env"
  },
  "language_info": {
   "codemirror_mode": {
    "name": "ipython",
    "version": 3
   },
   "file_extension": ".py",
   "mimetype": "text/x-python",
   "name": "python",
   "nbconvert_exporter": "python",
   "pygments_lexer": "ipython3",
   "version": "3.9.7"
  }
 },
 "nbformat": 4,
 "nbformat_minor": 5
}
