{
 "cells": [
  {
   "cell_type": "markdown",
   "id": "8250135b",
   "metadata": {},
   "source": [
    "# Generate circle dataset"
   ]
  },
  {
   "cell_type": "code",
   "execution_count": 1,
   "id": "6b5de456",
   "metadata": {},
   "outputs": [],
   "source": [
    "#---------------\n",
    "# import modules\n",
    "#---------------\n",
    "\n",
    "import numpy as np\n",
    "import joblib as jb\n",
    "import pickle as pk\n",
    "import matplotlib.pyplot as plt\n",
    "\n",
    "from sklearn.metrics import mean_squared_error, accuracy_score\n",
    "from sklearn.neural_network import MLPClassifier \n",
    "from sklearn.datasets import make_circles\n",
    "\n",
    "#----------------\n",
    "#Circle dataset\n",
    "#----------------\n",
    "n = 10000 #register number\n",
    "#p = 2 #featurs over our data\n",
    "\n",
    "#generating the input X and output y (binary vector)\n",
    "X_org, y_org = make_circles(n_samples=n, factor=0.1, noise=0.03, random_state=7)\n",
    "#y = y[:, np.newaxis]"
   ]
  },
  {
   "cell_type": "code",
   "execution_count": 2,
   "id": "039f51f2",
   "metadata": {},
   "outputs": [],
   "source": [
    "n_training = 10\n",
    "max_iter = 1000"
   ]
  },
  {
   "cell_type": "markdown",
   "id": "e7b7b210",
   "metadata": {},
   "source": [
    "# Using with 2 circle"
   ]
  },
  {
   "cell_type": "code",
   "execution_count": 3,
   "id": "ebbbcb68",
   "metadata": {},
   "outputs": [
    {
     "name": "stdout",
     "output_type": "stream",
     "text": [
      "(10000, 2) (10000,)\n"
     ]
    },
    {
     "data": {
      "image/png": "[encoded data removed]",
      "text/plain": [
       "<Figure size 432x288 with 1 Axes>"
      ]
     },
     "metadata": {
      "needs_background": "light"
     },
     "output_type": "display_data"
    }
   ],
   "source": [
    "X = X_org\n",
    "y = y_org\n",
    "print(X.shape, y.shape)\n",
    "plt.scatter(X[y==0, 0], X[y==0, 1], c=\"skyblue\")\n",
    "plt.scatter(X[y==1, 0], X[y==1, 1], c=\"magenta\")\n",
    "plt.show()"
   ]
  },
  {
   "cell_type": "code",
   "execution_count": 4,
   "id": "69068dfd",
   "metadata": {},
   "outputs": [
    {
     "name": "stdout",
     "output_type": "stream",
     "text": [
      "Training target statistics: Counter({1: 4032, 0: 3968})\n",
      "Testing target statistics: Counter({0: 1032, 1: 968})\n"
     ]
    }
   ],
   "source": [
    "from sklearn.model_selection import train_test_split\n",
    "from collections import Counter\n",
    "\n",
    "X_train_bal, X_test_bal, y_train_bal, y_test_bal = train_test_split(X, y, test_size=0.2, random_state=100)\n",
    "print(f\"Training target statistics: {Counter(y_train_bal)}\")\n",
    "print(f\"Testing target statistics: {Counter(y_test_bal)}\")"
   ]
  },
  {
   "cell_type": "code",
   "execution_count": null,
   "id": "27b665d4",
   "metadata": {},
   "outputs": [],
   "source": [
    "X_sample = len(X_train_bal)\n",
    "X_input = len(X_train_bal[1])\n",
    "X_class = len(np.unique(y_train_bal))\n",
    "\n",
    "X_train = X_train_bal\n",
    "y_train = y_train_bal\n",
    "X_test = X_test_bal\n",
    "y_test = y_test_bal\n",
    "\n",
    "cost_test = []\n",
    "metric_train = []\n",
    "\n",
    "for i in range(n_training):\n",
    "    print('Training ', i+1, '...')\n",
    "    clf = MLPClassifier(hidden_layer_sizes=(X_input * 3, ), activation='tanh', solver='sgd', alpha=5e-4)\n",
    "    clf.out_activation_ = 'multiclass'\n",
    "    partial_loss = []\n",
    "    \n",
    "    for _ in range(max_iter):\n",
    "        clf.partial_fit(X_train, y_train, classes=[0, 1])\n",
    "        partial_loss.append(clf.loss_)\n",
    "\n",
    "    metric_train.append(partial_loss)\n",
    "    y_test_pred = clf.predict(X_test)\n",
    "    cost_test.append(mean_squared_error(y_test, y_test_pred))\n",
    "    print ('Test prediction cost with training: ', cost_test[i]) \n",
    "    min_cost = min(cost_test)\n",
    "    print (\"Min test prediction cost: \", min_cost)\n",
    "    if  cost_test[i] <= min_cost:\n",
    "        # save the model to disk\n",
    "        filename = 'sgd_circle_model_113_100_1000_2_10000.sav'\n",
    "        jb.dump(clf, filename)\n",
    "        np.save('sgd_circle_bLoss_113_100_1000_2_10000.npy', partial_loss)\n",
    "\n",
    "with open('sgd_circle_metric_113_100_1000_2_10000', 'wb') as temp:\n",
    "    pk.dump(metric_train, temp)"
   ]
  },
  {
   "cell_type": "code",
   "execution_count": 6,
   "id": "3b80349d",
   "metadata": {},
   "outputs": [
    {
     "name": "stdout",
     "output_type": "stream",
     "text": [
      "=====================================================================\n",
      "=====================================================================\n",
      "Training: MSE:  0.0  ACC score:  1.0\n",
      "Testing: MSE:  0.0  ACC score:  1.0\n",
      "=====================================================================\n",
      "=====================================================================\n"
     ]
    }
   ],
   "source": [
    "loaded_model = jb.load(filename)\n",
    "\n",
    "print(\"=====================================================================\")\n",
    "print(\"=====================================================================\")\n",
    "y_test_pred_load = loaded_model.predict(X_test)\n",
    "cost_test_load = mean_squared_error(y_test, y_test_pred_load)\n",
    "acc_test_load = accuracy_score(y_test, y_test_pred_load)\n",
    "\n",
    "y_train_pred_load = loaded_model.predict(X_train)\n",
    "cost_train_load = mean_squared_error(y_train, y_train_pred_load)\n",
    "acc_train_load = accuracy_score(y_train, y_train_pred_load)\n",
    "\n",
    "print('Training: MSE: ', cost_train_load, ' ACC score: ', acc_train_load)\n",
    "print('Testing: MSE: ', cost_test_load, ' ACC score: ', acc_test_load)\n",
    "print(\"=====================================================================\")\n",
    "print(\"=====================================================================\")"
   ]
  },
  {
   "cell_type": "markdown",
   "id": "f40edec9",
   "metadata": {},
   "source": [
    "# Using 3 circle"
   ]
  },
  {
   "cell_type": "code",
   "execution_count": 7,
   "id": "f1ca73d2",
   "metadata": {},
   "outputs": [],
   "source": [
    "X_middle, y_middle = make_circles(n_samples=n, factor = 0.4, noise=0.03, random_state=7)"
   ]
  },
  {
   "cell_type": "code",
   "execution_count": 8,
   "id": "3507a6b9",
   "metadata": {},
   "outputs": [
    {
     "name": "stdout",
     "output_type": "stream",
     "text": [
      "(10000, 2) (10000,)\n"
     ]
    }
   ],
   "source": [
    "y_middle[y_middle == 1] = 2\n",
    "#print(y_small)\n",
    "X = np.concatenate((X, X_middle[y_middle==2]))\n",
    "y = np.concatenate((y, y_middle[y_middle==2]))\n",
    "\n",
    "# Selecting only the n points\n",
    "shuffled_indices = np.random.permutation(len(X)) #return a permutation of the indices\n",
    "X = X[shuffled_indices]\n",
    "y = y[shuffled_indices]\n",
    "X = X[:n]\n",
    "y = y[:n]\n",
    "print (X.shape, y.shape)"
   ]
  },
  {
   "cell_type": "code",
   "execution_count": 9,
   "id": "611d0544",
   "metadata": {},
   "outputs": [
    {
     "data": {
      "image/png": "[encoded data removed]",
      "text/plain": [
       "<Figure size 432x288 with 1 Axes>"
      ]
     },
     "metadata": {
      "needs_background": "light"
     },
     "output_type": "display_data"
    }
   ],
   "source": [
    "plt.scatter(X[y==0, 0], X[y==0, 1], c=\"skyblue\")\n",
    "plt.scatter(X[y==1, 0], X[y==1, 1], c=\"magenta\")\n",
    "plt.scatter(X[y==2, 0], X[y==2, 1], c=\"blue\")\n",
    "plt.show()"
   ]
  },
  {
   "cell_type": "code",
   "execution_count": 10,
   "id": "1f2ea3e4",
   "metadata": {},
   "outputs": [
    {
     "name": "stdout",
     "output_type": "stream",
     "text": [
      "Training target statistics: Counter({1: 2681, 0: 2669, 2: 2650})\n",
      "Testing target statistics: Counter({2: 692, 1: 677, 0: 631})\n"
     ]
    }
   ],
   "source": [
    "from sklearn.model_selection import train_test_split\n",
    "from collections import Counter\n",
    "\n",
    "X_train_bal, X_test_bal, y_train_bal, y_test_bal = train_test_split(X, y, test_size=0.2, random_state=100)\n",
    "print(f\"Training target statistics: {Counter(y_train_bal)}\")\n",
    "print(f\"Testing target statistics: {Counter(y_test_bal)}\")"
   ]
  },
  {
   "cell_type": "code",
   "execution_count": null,
   "id": "023df148",
   "metadata": {},
   "outputs": [],
   "source": [
    "X_sample = len(X_train_bal)\n",
    "X_input = len(X_train_bal[1])\n",
    "X_class = len(np.unique(y_train_bal))\n",
    "\n",
    "X_train = X_train_bal\n",
    "y_train = y_train_bal\n",
    "X_test = X_test_bal\n",
    "y_test = y_test_bal\n",
    "\n",
    "cost_test = []\n",
    "metric_train = []\n",
    "\n",
    "for i in range(n_training):\n",
    "    print('Training ', i+1, '...')\n",
    "    clf = MLPClassifier(hidden_layer_sizes=(X_input * 3, ), activation='tanh', solver='sgd', alpha=5e-4)\n",
    "    clf.out_activation_ = 'multiclass'\n",
    "    partial_loss = []\n",
    "    \n",
    "    for _ in range(max_iter):\n",
    "        clf.partial_fit(X_train, y_train, classes=[0, 1, 2])\n",
    "        partial_loss.append(clf.loss_)\n",
    "\n",
    "    metric_train.append(partial_loss)\n",
    "    y_test_pred = clf.predict(X_test)\n",
    "    cost_test.append(mean_squared_error(y_test, y_test_pred))\n",
    "    print ('Test prediction cost with training: ', cost_test[i]) \n",
    "    min_cost = min(cost_test)\n",
    "    print (\"Min test prediction cost: \", min_cost)\n",
    "    if  cost_test[i] <= min_cost:\n",
    "        # save the model to disk\n",
    "        filename = 'sgd_circle_model_113_100_1000_3_10000.sav'\n",
    "        jb.dump(clf, filename)\n",
    "        np.save('sgd_circle_bLoss_113_100_1000_3_10000.npy', partial_loss)\n",
    "\n",
    "with open('sgd_circle_metric_113_100_1000_3_10000', 'wb') as temp:\n",
    "    pk.dump(metric_train, temp)"
   ]
  },
  {
   "cell_type": "code",
   "execution_count": 12,
   "id": "2a0be864",
   "metadata": {},
   "outputs": [
    {
     "name": "stdout",
     "output_type": "stream",
     "text": [
      "=====================================================================\n",
      "=====================================================================\n",
      "Training: MSE:  0.0  ACC score:  1.0\n",
      "Testing: MSE:  0.0  ACC score:  1.0\n",
      "=====================================================================\n",
      "=====================================================================\n"
     ]
    }
   ],
   "source": [
    "loaded_model = jb.load(filename)\n",
    "\n",
    "print(\"=====================================================================\")\n",
    "print(\"=====================================================================\")\n",
    "y_test_pred_load = loaded_model.predict(X_test)\n",
    "cost_test_load = mean_squared_error(y_test, y_test_pred_load)\n",
    "acc_test_load = accuracy_score(y_test, y_test_pred_load)\n",
    "\n",
    "y_train_pred_load = loaded_model.predict(X_train)\n",
    "cost_train_load = mean_squared_error(y_train, y_train_pred_load)\n",
    "acc_train_load = accuracy_score(y_train, y_train_pred_load)\n",
    "\n",
    "print('Training: MSE: ', cost_train_load, ' ACC score: ', acc_train_load)\n",
    "print('Testing: MSE: ', cost_test_load, ' ACC score: ', acc_test_load)\n",
    "print(\"=====================================================================\")\n",
    "print(\"=====================================================================\")"
   ]
  },
  {
   "cell_type": "markdown",
   "id": "a3c58d32",
   "metadata": {},
   "source": [
    "# Using 4 circles"
   ]
  },
  {
   "cell_type": "code",
   "execution_count": 13,
   "id": "c145dc34",
   "metadata": {},
   "outputs": [],
   "source": [
    "X_middle_up, y_middle_up = make_circles(n_samples=n, factor = 0.7, noise=0.03, random_state=7)"
   ]
  },
  {
   "cell_type": "code",
   "execution_count": 14,
   "id": "2c94fa72",
   "metadata": {},
   "outputs": [
    {
     "name": "stdout",
     "output_type": "stream",
     "text": [
      "(10000, 2) (10000,)\n"
     ]
    }
   ],
   "source": [
    "y_middle_up[y_middle_up == 1] = 3\n",
    "#print(y_small)\n",
    "X = np.concatenate((X, X_middle_up[y_middle_up==3]))\n",
    "y = np.concatenate((y, y_middle_up[y_middle_up==3]))\n",
    "\n",
    "# Selecting only the n points\n",
    "shuffled_indices = np.random.permutation(len(X)) #return a permutation of the indices\n",
    "X = X[shuffled_indices]\n",
    "y = y[shuffled_indices]\n",
    "X = X[:n]\n",
    "y = y[:n]\n",
    "print (X.shape, y.shape)"
   ]
  },
  {
   "cell_type": "code",
   "execution_count": 15,
   "id": "40fcc043",
   "metadata": {},
   "outputs": [
    {
     "data": {
      "image/png": "[encoded data removed]",
      "text/plain": [
       "<Figure size 432x288 with 1 Axes>"
      ]
     },
     "metadata": {
      "needs_background": "light"
     },
     "output_type": "display_data"
    }
   ],
   "source": [
    "plt.scatter(X[y==0, 0], X[y==0, 1], c=\"skyblue\")\n",
    "plt.scatter(X[y==1, 0], X[y==1, 1], c=\"magenta\")\n",
    "plt.scatter(X[y==2, 0], X[y==2, 1], c=\"blue\")\n",
    "plt.scatter(X[y==3, 0], X[y==3, 1], c=\"green\")\n",
    "plt.show()"
   ]
  },
  {
   "cell_type": "code",
   "execution_count": 16,
   "id": "1a0e11ed",
   "metadata": {},
   "outputs": [
    {
     "name": "stdout",
     "output_type": "stream",
     "text": [
      "Training target statistics: Counter({3: 2698, 2: 1789, 1: 1776, 0: 1737})\n",
      "Testing target statistics: Counter({3: 664, 1: 452, 0: 443, 2: 441})\n"
     ]
    }
   ],
   "source": [
    "from sklearn.model_selection import train_test_split\n",
    "from collections import Counter\n",
    "\n",
    "X_train_bal, X_test_bal, y_train_bal, y_test_bal = train_test_split(X, y, test_size=0.2, random_state=100)\n",
    "print(f\"Training target statistics: {Counter(y_train_bal)}\")\n",
    "print(f\"Testing target statistics: {Counter(y_test_bal)}\")"
   ]
  },
  {
   "cell_type": "code",
   "execution_count": null,
   "id": "5f244171",
   "metadata": {},
   "outputs": [],
   "source": [
    "X_sample = len(X_train_bal)\n",
    "X_input = len(X_train_bal[1])\n",
    "X_class = len(np.unique(y_train_bal))\n",
    "\n",
    "X_train = X_train_bal\n",
    "y_train = y_train_bal\n",
    "X_test = X_test_bal\n",
    "y_test = y_test_bal\n",
    "\n",
    "cost_test = []\n",
    "metric_train = []\n",
    "\n",
    "for i in range(n_training):\n",
    "    print('Training ', i+1, '...')\n",
    "    clf = MLPClassifier(hidden_layer_sizes=(X_input * 3, ), activation='tanh', solver='sgd', alpha=5e-4)\n",
    "    clf.out_activation_ = 'multiclass'\n",
    "    partial_loss = []\n",
    "    \n",
    "    for _ in range(max_iter):\n",
    "        clf.partial_fit(X_train, y_train, classes=[0, 1, 2, 3])\n",
    "        partial_loss.append(clf.loss_)\n",
    "\n",
    "    metric_train.append(partial_loss)\n",
    "    y_test_pred = clf.predict(X_test)\n",
    "    cost_test.append(mean_squared_error(y_test, y_test_pred))\n",
    "    print ('Test prediction cost with training: ', cost_test[i]) \n",
    "    min_cost = min(cost_test)\n",
    "    print (\"Min test prediction cost: \", min_cost)\n",
    "    if  cost_test[i] <= min_cost:\n",
    "        # save the model to disk\n",
    "        filename = 'sgd_circle_model_113_100_1000_4_10000.sav'\n",
    "        jb.dump(clf, filename)\n",
    "        np.save('sgd_circle_bLoss_113_100_1000_4_10000.npy', partial_loss)\n",
    "\n",
    "with open('sgd_circle_metric_113_100_1000_4_10000', 'wb') as temp:\n",
    "    pk.dump(metric_train, temp)"
   ]
  },
  {
   "cell_type": "code",
   "execution_count": 18,
   "id": "40d0f0a5",
   "metadata": {},
   "outputs": [
    {
     "name": "stdout",
     "output_type": "stream",
     "text": [
      "=====================================================================\n",
      "=====================================================================\n",
      "Training: MSE:  0.383375  ACC score:  0.955625\n",
      "Testing: MSE:  0.3935  ACC score:  0.9545\n",
      "=====================================================================\n",
      "=====================================================================\n"
     ]
    }
   ],
   "source": [
    "loaded_model = jb.load(filename)\n",
    "\n",
    "print(\"=====================================================================\")\n",
    "print(\"=====================================================================\")\n",
    "y_test_pred_load = loaded_model.predict(X_test)\n",
    "cost_test_load = mean_squared_error(y_test, y_test_pred_load)\n",
    "acc_test_load = accuracy_score(y_test, y_test_pred_load)\n",
    "\n",
    "y_train_pred_load = loaded_model.predict(X_train)\n",
    "cost_train_load = mean_squared_error(y_train, y_train_pred_load)\n",
    "acc_train_load = accuracy_score(y_train, y_train_pred_load)\n",
    "\n",
    "print('Training: MSE: ', cost_train_load, ' ACC score: ', acc_train_load)\n",
    "print('Testing: MSE: ', cost_test_load, ' ACC score: ', acc_test_load)\n",
    "print(\"=====================================================================\")\n",
    "print(\"=====================================================================\")"
   ]
  }
 ],
 "metadata": {
  "kernelspec": {
   "display_name": "Python (qpso-env)",
   "language": "python",
   "name": "qpso-env"
  },
  "language_info": {
   "codemirror_mode": {
    "name": "ipython",
    "version": 3
   },
   "file_extension": ".py",
   "mimetype": "text/x-python",
   "name": "python",
   "nbconvert_exporter": "python",
   "pygments_lexer": "ipython3",
   "version": "3.9.7"
  }
 },
 "nbformat": 4,
 "nbformat_minor": 5
}
