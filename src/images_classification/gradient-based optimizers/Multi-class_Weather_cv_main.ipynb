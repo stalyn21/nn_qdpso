{
 "cells": [
  {
   "cell_type": "code",
   "execution_count": null,
   "id": "d4722978",
   "metadata": {},
   "outputs": [],
   "source": [
    "#---------------\n",
    "# import modules\n",
    "#---------------\n",
    "\n",
    "import numpy as np\n",
    "import cv2\n",
    "import joblib as jb\n",
    "import pickle as pk\n",
    "import matplotlib.pyplot as plt\n",
    "import mahotas\n",
    "\n",
    "from os import listdir\n",
    "from sklearn.metrics import mean_squared_error, accuracy_score\n",
    "from sklearn.preprocessing import MinMaxScaler\n",
    "from sklearn.manifold import Isomap\n",
    "from sklearn.model_selection import train_test_split\n",
    "from collections import Counter\n",
    "\n",
    "from sklearn.neural_network import MLPClassifier\n",
    "#----------------\n",
    "#Global variables\n",
    "#----------------\n",
    "\n",
    "root_path = './dataset2/'\n",
    "#train_path = 'seg_train/seg_train/'\n",
    "#test_path = 'seg_test/seg_test/'\n",
    "#pred_path = 'seg_pred/seg_pred/'\n",
    "\n",
    "# Dataset classes: buildings, forest, glacier, mountain, sea, street\n",
    "data_clases = np.array(['cloudy', \n",
    "\t\t\t\t\t\t'rain', \n",
    "\t\t\t\t\t\t'shine', \n",
    "\t\t\t\t\t\t'sunrise'])\n",
    "IMG_HEIGHT = 150\n",
    "IMG_WIDTH = 150\n",
    "\n",
    "#---------------------------------\n",
    "# Extract Global features\n",
    "#---------------------------------\n",
    "bins = 4 \n",
    "\n",
    "# feature-descriptor-1: Hu Moments\n",
    "def fd_hu_moments(image):\n",
    "    image = cv2.cvtColor(image, cv2.COLOR_BGR2GRAY)\n",
    "    feature = cv2.HuMoments(cv2.moments(image)).flatten()\n",
    "    return feature\n",
    "\n",
    "# feature-descriptor-2: Haralick Texture\n",
    "def fd_haralick(image):\n",
    "    # convert the image to grayscale\n",
    "    gray = cv2.cvtColor(image, cv2.COLOR_BGR2GRAY)\n",
    "    # compute the haralick texture feature vector\n",
    "    haralick = mahotas.features.haralick(gray).mean(axis=0)\n",
    "    # return the result\n",
    "    return haralick\n",
    "\n",
    "# feature-descriptor-3: Color Histogram\n",
    "def fd_histogram(image, mask=None):\n",
    "    # convert the image to HSV color-space\n",
    "    image = cv2.cvtColor(image, cv2.COLOR_BGR2HSV)\n",
    "    # compute the color histogram\n",
    "    hist  = cv2.calcHist([image], [0, 1, 2], None, [bins, bins, bins], [0, 256, 0, 256, 0, 256])\n",
    "    # normalize the histogram\n",
    "    cv2.normalize(hist, hist)\n",
    "    # return the histogram\n",
    "    return hist.flatten()\n",
    "\n",
    "#---------------------------------\n",
    "# prepare training and testing set\n",
    "#---------------------------------\n",
    "\n",
    "X_train_aux = []\n",
    "y_train_aux = []\n",
    "\n",
    "for c in range(len(data_clases)):\n",
    "\tfor filename in listdir(root_path + data_clases[c] + '/'):\n",
    "\t\t# load image\n",
    "\t\timg_data = cv2.imread(root_path + data_clases[c] + '/' + filename) \n",
    "\t\timg_data = cv2.resize(img_data, (IMG_HEIGHT, IMG_WIDTH))\n",
    "        # Global Feature extraction\n",
    "\t\tfv_hu_moments = fd_hu_moments(img_data)\n",
    "\t\t#print(fv_hu_moments.shape)\n",
    "\t\tfv_haralick = fd_haralick(img_data)\n",
    "\t\t#print(fv_haralick.shape)        \n",
    "\t\tfv_histogram  = fd_histogram(img_data)\n",
    "\t\t#print(fv_histogram.shape)\n",
    "\t\t# Concatenate global features\n",
    "\t\tglobal_feature = np.hstack([fv_histogram, fv_haralick, fv_hu_moments])\n",
    "\t\tX_train_aux.append(global_feature)\n",
    "\t\ty_train_aux.append(c)\n",
    "\t\tprint('> loaded %s %s' % (filename, img_data.shape))\n",
    "\t\tprint('> global features %s %s' % (filename, global_feature.shape))\n",
    "\n",
    "# convert to array\n",
    "X_train_aux = np.array(X_train_aux)\n",
    "y_train_aux = np.array(y_train_aux)\n",
    "\n",
    "# normalize data\n",
    "#X_train_aux = X_train_aux / 255\n",
    "\n",
    "print('X_train shape: ', X_train_aux.shape)\n",
    "print('y_train shape: ', y_train_aux.shape)"
   ]
  },
  {
   "cell_type": "code",
   "execution_count": 3,
   "id": "7d56b2c6",
   "metadata": {},
   "outputs": [],
   "source": [
    "n_particulas = 100\n",
    "max_iter = 1000\n",
    "n_training = 10"
   ]
  },
  {
   "cell_type": "code",
   "execution_count": 4,
   "id": "13688e87",
   "metadata": {},
   "outputs": [],
   "source": [
    "t = MinMaxScaler()\n",
    "t.fit(X_train_aux)\n",
    "X_train_aux = t.transform(X_train_aux)"
   ]
  },
  {
   "cell_type": "code",
   "execution_count": 6,
   "id": "eb406735",
   "metadata": {},
   "outputs": [
    {
     "name": "stdout",
     "output_type": "stream",
     "text": [
      "Training target statistics: Counter({3: 253, 0: 196, 2: 179, 1: 157})\n",
      "Testing target statistics: Counter({0: 104, 3: 104, 2: 72, 1: 57})\n"
     ]
    }
   ],
   "source": [
    "X_train_bal, X_test_bal, y_train_bal, y_test_bal = train_test_split(X_train_aux, y_train_aux, test_size=0.3, random_state=100)\n",
    "print(f\"Training target statistics: {Counter(y_train_bal)}\")\n",
    "print(f\"Testing target statistics: {Counter(y_test_bal)}\")"
   ]
  },
  {
   "cell_type": "code",
   "execution_count": null,
   "id": "a86acb36",
   "metadata": {},
   "outputs": [],
   "source": [
    "X_sample = len(X_train_bal)\n",
    "X_input = len(X_train_bal[1])\n",
    "X_class = len(np.unique(y_train_bal))\n",
    "\n",
    "X_train = X_train_bal\n",
    "y_train = y_train_bal\n",
    "X_test = X_test_bal\n",
    "y_test = y_test_bal\n",
    "\n",
    "cost_test = []\n",
    "metric_train = []\n",
    "\n",
    "for i in range(n_training):\n",
    "    print('Training ', i+1, '...')\n",
    "    clf = MLPClassifier(hidden_layer_sizes=(X_input * 3, ), activation='tanh', solver='adam', alpha=5e-4)\n",
    "    clf.out_activation_ = 'multiclass'\n",
    "    partial_loss = []\n",
    "    \n",
    "    for _ in range(max_iter):\n",
    "        clf.partial_fit(X_train, y_train, classes=[0, 1, 2, 3])\n",
    "        partial_loss.append(clf.loss_)\n",
    "\n",
    "    metric_train.append(partial_loss)\n",
    "    y_test_pred = clf.predict(X_test)\n",
    "    cost_test.append(mean_squared_error(y_test, y_test_pred))\n",
    "    print ('Test prediction cost with training: ', cost_test[i]) \n",
    "    min_cost = min(cost_test)\n",
    "    print (\"Min test prediction cost: \", min_cost)\n",
    "    if  cost_test[i] <= min_cost:\n",
    "        # save the model to disk\n",
    "        filename = 'mcw_model_113_100_1000_84_adam.sav'\n",
    "        jb.dump(clf, filename)\n",
    "        np.save('mcw_bestLoss_113_100_1000_84_adam.npy', partial_loss)\n",
    "\n",
    "with open('mcw_metric_113_100_1000_84_adam', 'wb') as temp:\n",
    "    pk.dump(metric_train, temp)        "
   ]
  },
  {
   "cell_type": "code",
   "execution_count": 8,
   "id": "2b4b9498",
   "metadata": {},
   "outputs": [
    {
     "name": "stdout",
     "output_type": "stream",
     "text": [
      "=====================================================================\n",
      "=====================================================================\n",
      "MSE:  0.2522255192878338  ACC score:  0.8991097922848664\n",
      "MSE:  0.030573248407643312  ACC score:  0.9923566878980892\n",
      "=====================================================================\n",
      "=====================================================================\n"
     ]
    }
   ],
   "source": [
    "loaded_model = jb.load(filename)\n",
    "\n",
    "print(\"=====================================================================\")\n",
    "print(\"=====================================================================\")\n",
    "y_test_pred_load = loaded_model.predict(X_test)\n",
    "cost_test_load = mean_squared_error(y_test, y_test_pred_load)\n",
    "acc_test_load = accuracy_score(y_test, y_test_pred_load)\n",
    "print('MSE: ', cost_test_load, ' ACC score: ', acc_test_load)\n",
    "\n",
    "y_train_pred_load = loaded_model.predict(X_train)\n",
    "cost_train_load = mean_squared_error(y_train, y_train_pred_load)\n",
    "acc_train_load = accuracy_score(y_train, y_train_pred_load)\n",
    "print('MSE: ', cost_train_load, ' ACC score: ', acc_train_load)\n",
    "print(\"=====================================================================\")\n",
    "print(\"=====================================================================\")"
   ]
  },
  {
   "cell_type": "code",
   "execution_count": null,
   "id": "7cafc58e",
   "metadata": {},
   "outputs": [],
   "source": [
    "cost_test = []\n",
    "metric_train = []\n",
    "\n",
    "for i in range(n_training):\n",
    "    print('Training ', i+1, '...')\n",
    "    clf = MLPClassifier(hidden_layer_sizes=(X_input * 3, ), activation='tanh', solver='sgd', alpha=5e-4)\n",
    "    clf.out_activation_ = 'multiclass'\n",
    "    partial_loss = []\n",
    "    \n",
    "    for _ in range(max_iter):\n",
    "        clf.partial_fit(X_train, y_train, classes=[0, 1, 2, 3])\n",
    "        partial_loss.append(clf.loss_)\n",
    "\n",
    "    metric_train.append(partial_loss)\n",
    "    y_test_pred = clf.predict(X_test)\n",
    "    cost_test.append(mean_squared_error(y_test, y_test_pred))\n",
    "    print ('Test prediction cost with training: ', cost_test[i]) \n",
    "    min_cost = min(cost_test)\n",
    "    print (\"Min test prediction cost: \", min_cost)\n",
    "    if  cost_test[i] <= min_cost:\n",
    "        # save the model to disk\n",
    "        filename = 'mcw_model_113_100_1000_84_sgd.sav'\n",
    "        jb.dump(clf, filename)\n",
    "        np.save('mcw_bestLoss_113_100_1000_84_sgd.npy', partial_loss)\n",
    "\n",
    "with open('mcw_metric_113_100_1000_84_sgd', 'wb') as temp:\n",
    "    pk.dump(metric_train, temp)   "
   ]
  },
  {
   "cell_type": "code",
   "execution_count": 10,
   "id": "1219ea6a",
   "metadata": {},
   "outputs": [
    {
     "name": "stdout",
     "output_type": "stream",
     "text": [
      "=====================================================================\n",
      "=====================================================================\n",
      "MSE:  0.228486646884273  ACC score:  0.8931750741839762\n",
      "MSE:  0.2713375796178344  ACC score:  0.910828025477707\n",
      "=====================================================================\n",
      "=====================================================================\n"
     ]
    }
   ],
   "source": [
    "loaded_model = jb.load(filename)\n",
    "\n",
    "print(\"=====================================================================\")\n",
    "print(\"=====================================================================\")\n",
    "y_test_pred_load = loaded_model.predict(X_test)\n",
    "cost_test_load = mean_squared_error(y_test, y_test_pred_load)\n",
    "acc_test_load = accuracy_score(y_test, y_test_pred_load)\n",
    "print('MSE: ', cost_test_load, ' ACC score: ', acc_test_load)\n",
    "\n",
    "y_train_pred_load = loaded_model.predict(X_train)\n",
    "cost_train_load = mean_squared_error(y_train, y_train_pred_load)\n",
    "acc_train_load = accuracy_score(y_train, y_train_pred_load)\n",
    "print('MSE: ', cost_train_load, ' ACC score: ', acc_train_load)\n",
    "print(\"=====================================================================\")\n",
    "print(\"=====================================================================\")"
   ]
  },
  {
   "cell_type": "code",
   "execution_count": null,
   "id": "2ae87568",
   "metadata": {},
   "outputs": [],
   "source": [
    "cost_test = []\n",
    "loss_train = []\n",
    "\n",
    "for i in range(n_training):\n",
    "    print('Training ', i+1, '...')\n",
    "    clf = MLPClassifier(hidden_layer_sizes=(X_input * 3, ), activation='tanh', solver='lbfgs', max_iter=max_iter, alpha=5e-4)\n",
    "    clf.out_activation_ = 'multiclass'\n",
    "    clf.fit(X_train, y_train)\n",
    "    loss_train.append(clf.loss_)\n",
    "    y_test_pred = clf.predict(X_test)\n",
    "    cost_test.append(mean_squared_error(y_test, y_test_pred))\n",
    "    print ('Test prediction cost with training: ', cost_test[i]) \n",
    "    min_cost = min(cost_test)\n",
    "    print (\"Min test prediction cost: \", min_cost)\n",
    "    if  cost_test[i] <= min_cost:\n",
    "        # save the model to disk\n",
    "        filename = 'mcw_model_113_100_1000_84_lbfgs.sav'\n",
    "        jb.dump(clf, filename)\n",
    "\n",
    "with open('mcw_metric_113_100_1000_84_lbfgs', 'wb') as temp:\n",
    "    pk.dump(loss_train, temp)"
   ]
  },
  {
   "cell_type": "code",
   "execution_count": 12,
   "id": "971a5077",
   "metadata": {},
   "outputs": [
    {
     "name": "stdout",
     "output_type": "stream",
     "text": [
      "=====================================================================\n",
      "=====================================================================\n",
      "MSE:  0.19287833827893175  ACC score:  0.9169139465875371\n",
      "MSE:  0.0  ACC score:  1.0\n",
      "=====================================================================\n",
      "=====================================================================\n"
     ]
    }
   ],
   "source": [
    "loaded_model = jb.load(filename)\n",
    "\n",
    "print(\"=====================================================================\")\n",
    "print(\"=====================================================================\")\n",
    "y_test_pred_load = loaded_model.predict(X_test)\n",
    "cost_test_load = mean_squared_error(y_test, y_test_pred_load)\n",
    "acc_test_load = accuracy_score(y_test, y_test_pred_load)\n",
    "print('MSE: ', cost_test_load, ' ACC score: ', acc_test_load)\n",
    "\n",
    "y_train_pred_load = loaded_model.predict(X_train)\n",
    "cost_train_load = mean_squared_error(y_train, y_train_pred_load)\n",
    "acc_train_load = accuracy_score(y_train, y_train_pred_load)\n",
    "print('MSE: ', cost_train_load, ' ACC score: ', acc_train_load)\n",
    "print(\"=====================================================================\")\n",
    "print(\"=====================================================================\")"
   ]
  }
 ],
 "metadata": {
  "kernelspec": {
   "display_name": "Python 3.9.7 ('qpso-env')",
   "language": "python",
   "name": "python3"
  },
  "language_info": {
   "codemirror_mode": {
    "name": "ipython",
    "version": 3
   },
   "file_extension": ".py",
   "mimetype": "text/x-python",
   "name": "python",
   "nbconvert_exporter": "python",
   "pygments_lexer": "ipython3",
   "version": "3.9.7"
  },
  "vscode": {
   "interpreter": {
    "hash": "e723b1e260b5828f2d71d426a6cc03faa12a7bd7d58626c9280844c649f5bc24"
   }
  }
 },
 "nbformat": 4,
 "nbformat_minor": 5
}
