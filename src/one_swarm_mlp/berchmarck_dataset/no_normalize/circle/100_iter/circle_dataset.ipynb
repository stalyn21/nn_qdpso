{
 "cells": [
  {
   "cell_type": "markdown",
   "id": "c8cdbfb4",
   "metadata": {},
   "source": [
    "# Berchmarking Dataset for image classification of sklearn"
   ]
  },
  {
   "cell_type": "code",
   "execution_count": 17,
   "id": "a5830313",
   "metadata": {},
   "outputs": [],
   "source": [
    "#---------------\n",
    "# import modules\n",
    "#---------------\n",
    "\n",
    "import numpy as np\n",
    "import joblib as jb\n",
    "import matplotlib.pyplot as plt\n",
    "\n",
    "#datasets\n",
    "from sklearn.datasets import make_circles\n",
    "\n",
    "from sklearn.metrics import mean_squared_error, accuracy_score\n",
    "from sklearn.model_selection import train_test_split\n",
    "from collections import Counter\n",
    "\n",
    "from sklearn.neural_network import MLPClassifier\n",
    "from neuralNetwork.perceptron_qpso import perceptron \n",
    "from neuralNetwork.perceptron_pso import perceptron_pso\n",
    "from neuralNetwork.perceptron_pso_bound import perceptron_pso_bound  \n"
   ]
  },
  {
   "cell_type": "markdown",
   "id": "b484f67c",
   "metadata": {},
   "source": [
    "## Circle Dataset"
   ]
  },
  {
   "cell_type": "code",
   "execution_count": 18,
   "id": "9513da89",
   "metadata": {},
   "outputs": [
    {
     "name": "stdout",
     "output_type": "stream",
     "text": [
      "Shape of X:  (500, 2)\n",
      "Shape of y:  (500,)\n"
     ]
    }
   ],
   "source": [
    "#----------------\n",
    "#Circle dataset\n",
    "#----------------\n",
    "n = 500 #register number\n",
    "#p = 2 #featurs over our data\n",
    "\n",
    "#generating the input X and output y (binary vector)\n",
    "X_org, y_org = make_circles(n_samples=n, factor=0.1, noise=0.03, random_state=7)\n",
    "#y = y[:, np.newaxis]\n",
    "\n",
    "print('Shape of X: ', X_org.shape)\n",
    "print('Shape of y: ', y_org.shape)"
   ]
  },
  {
   "cell_type": "code",
   "execution_count": 19,
   "id": "8d45dab0",
   "metadata": {},
   "outputs": [
    {
     "name": "stdout",
     "output_type": "stream",
     "text": [
      "(500, 2) (500,)\n"
     ]
    },
    {
     "data": {
      "image/png": "[encoded data removed]",
      "text/plain": [
       "<Figure size 432x288 with 1 Axes>"
      ]
     },
     "metadata": {
      "needs_background": "light"
     },
     "output_type": "display_data"
    }
   ],
   "source": [
    "X = X_org\n",
    "y = y_org\n",
    "print(X.shape, y.shape)\n",
    "plt.scatter(X[y==0, 0], X[y==0, 1], c=\"skyblue\")\n",
    "plt.scatter(X[y==1, 0], X[y==1, 1], c=\"magenta\")\n",
    "plt.show()"
   ]
  },
  {
   "cell_type": "code",
   "execution_count": 20,
   "id": "a33402d3",
   "metadata": {},
   "outputs": [
    {
     "name": "stdout",
     "output_type": "stream",
     "text": [
      "Training target statistics: Counter({1: 208, 0: 192})\n",
      "Testing target statistics: Counter({0: 58, 1: 42})\n"
     ]
    }
   ],
   "source": [
    "X_train_bal, X_test_bal, y_train_bal, y_test_bal = train_test_split(X_org, y_org, test_size=0.2, random_state=100)\n",
    "print(f\"Training target statistics: {Counter(y_train_bal)}\")\n",
    "print(f\"Testing target statistics: {Counter(y_test_bal)}\")"
   ]
  },
  {
   "cell_type": "code",
   "execution_count": 21,
   "id": "e6cca512",
   "metadata": {},
   "outputs": [],
   "source": [
    "# Global variables\n",
    "X_sample = len(X_train_bal)\n",
    "X_input = len(X_train_bal[1])\n",
    "X_class = len(np.unique(y_train_bal))\n",
    "\n",
    "n_particulas = 100\n",
    "max_iter = 100\n",
    "n_training = 10\n",
    "\n",
    "X_train = X_train_bal\n",
    "y_train = y_train_bal\n",
    "X_test = X_test_bal\n",
    "y_test = y_test_bal\n"
   ]
  },
  {
   "cell_type": "markdown",
   "id": "fec4622d",
   "metadata": {},
   "source": [
    "### QPSO optimizer"
   ]
  },
  {
   "cell_type": "code",
   "execution_count": null,
   "id": "7e65a7f0",
   "metadata": {},
   "outputs": [],
   "source": [
    "#---------------------------------------\n",
    "# variable initialize for qpso algorithm\n",
    "#---------------------------------------\n",
    "beta = 1.13 #1.13\n",
    "\n",
    "gBest_value = []\n",
    "gBest = []\n",
    "cost_test = []\n",
    "metric_train = []\n",
    "\n",
    "for i in range(n_training):\n",
    "    # load perceptron\n",
    "    nn = perceptron(X_sample, X_input, X_class)\n",
    "    gBest.append( nn.train(X_train, y_train, beta, n_particulas, max_iter) )\n",
    "    gBest_value.append(nn.g_best_value)\n",
    "    metric_train.append(nn.g_best_value_iter)\n",
    "    y_test_pred = np.argmax(nn.forward(X_test, gBest[i]), axis=1)\n",
    "    cost_test.append(mean_squared_error(y_test, y_test_pred))\n",
    "    print ('Test prediction cost with training: ', cost_test[i]) \n",
    "    min_cost = min(cost_test)\n",
    "    print (\"Min test prediction cost: \", min_cost)\n",
    "    if  cost_test[i] <= min_cost:       \n",
    "        np.save(\"qdpso_circle_gBest_113_100_100_2.npy\", gBest[i])\n",
    "        np.save(\"qdpso_circle_gBestIter_113_100_100_2.npy\", nn.g_best_value_iter)\n",
    "        np.save(\"qdpso_circle_avgBest_113_100_100_2.npy\", nn.avg_best_value)\n",
    "        np.save(\"qdpso_circle_stdBest_113_100_100_2.npy\", nn.std_best_value)\n",
    "        \n",
    "print(\"=====================================================================\")\n",
    "print(\"=====================================================================\")\n",
    "print(\"Save train metric ....\")\n",
    "np.save(\"qdpso_circle_metric_113_100_100_2.npy\", metric_train)\n",
    "print(\"The best training is in iteration: \", cost_test.index(min(cost_test)))\n",
    "print(\"The golbal best value is: \", gBest_value[cost_test.index(min(cost_test))])\n",
    "print(\"Test prediction cost: \", min(cost_test))\n",
    "print(\"=====================================================================\")\n",
    "print(\"=====================================================================\")"
   ]
  },
  {
   "cell_type": "code",
   "execution_count": 23,
   "id": "64c8e842",
   "metadata": {},
   "outputs": [
    {
     "name": "stdout",
     "output_type": "stream",
     "text": [
      "=====================================================================\n",
      "=====================================================================\n",
      "MSE:  0.0  ACC score:  1.0\n",
      "MSE:  0.0  ACC score:  1.0\n",
      "=====================================================================\n",
      "=====================================================================\n"
     ]
    }
   ],
   "source": [
    "model_load = np.load('qdpso_circle_gBest_113_100_100_2.npy')\n",
    "\n",
    "print(\"=====================================================================\")\n",
    "print(\"=====================================================================\")\n",
    "y_test_pred_load = np.argmax(nn.forward(X_test, model_load), axis=1)\n",
    "cost_test_load = mean_squared_error(y_test, y_test_pred_load)\n",
    "acc_test_load = accuracy_score(y_test, y_test_pred_load)\n",
    "print('MSE: ', cost_test_load, ' ACC score: ', acc_test_load)\n",
    "\n",
    "\n",
    "y_train_pred_load = np.argmax(nn.forward(X_train, model_load), axis=1)\n",
    "cost_train_load = mean_squared_error(y_train, y_train_pred_load)\n",
    "acc_train_load = accuracy_score(y_train, y_train_pred_load)\n",
    "print('MSE: ', cost_train_load, ' ACC score: ', acc_train_load)\n",
    "print(\"=====================================================================\")\n",
    "print(\"=====================================================================\")"
   ]
  },
  {
   "cell_type": "markdown",
   "id": "e61ce44c",
   "metadata": {},
   "source": [
    "### PSO optimizer"
   ]
  },
  {
   "cell_type": "code",
   "execution_count": null,
   "id": "28df7cba",
   "metadata": {},
   "outputs": [],
   "source": [
    "#---------------------------------------\n",
    "# variable initialize for pso algorithm\n",
    "#---------------------------------------\n",
    "opt = {'c1': 0.5, 'c2': 0.3, 'w':0.9}\n",
    "\n",
    "gBest_value = []\n",
    "gBest = []\n",
    "cost_test = []\n",
    "metric_train = []\n",
    "\n",
    "\n",
    "for i in range(n_training):\n",
    "    # load perceptron\n",
    "    nn = perceptron_pso(X_sample, X_input, X_class)\n",
    "    gBest.append( nn.train(X_train, y_train, opt, n_particulas, max_iter) )\n",
    "    gBest_value.append(nn.best_cost)\n",
    "    metric_train.append(nn.h_cost)\n",
    "    y_test_pred = np.argmax(nn.forward(X_test, gBest[i]), axis=1)\n",
    "    cost_test.append(mean_squared_error(y_test, y_test_pred))\n",
    "    print ('Test prediction cost with training: ', cost_test[i]) \n",
    "    min_cost = min(cost_test)\n",
    "    print (\"Min test prediction cost: \", min_cost)\n",
    "    if  cost_test[i] <= min_cost: \n",
    "        np.save(\"pso_circle_gBest_113_100_100_2.npy\", gBest[i])\n",
    "        np.save(\"pso_circle_gBestIter_113_100_100_2.npy\", nn.h_cost)\n",
    "        np.save(\"pso_circle_avgBest_113_100_100_2.npy\", nn.avg_best_value)\n",
    "        #np.save(\"pBest_113_100_100_2_5_1.npy\", nn.h_pos)\n",
    "        \n",
    "print(\"=====================================================================\")\n",
    "print(\"=====================================================================\")\n",
    "print(\"Saving train metric .... \")\n",
    "np.save(\"pso_circle_metric_113_100_100_2.npy\", metric_train)\n",
    "print(\"The best training is in iteration \", cost_test.index(min(cost_test)))\n",
    "print(\"The golbal best value is: \", gBest_value[cost_test.index(min(cost_test))])\n",
    "print(\"Test prediction cost: \", min(cost_test))\n",
    "print(\"=====================================================================\")\n",
    "print(\"=====================================================================\")"
   ]
  },
  {
   "cell_type": "code",
   "execution_count": 25,
   "id": "25ed5d3e",
   "metadata": {},
   "outputs": [
    {
     "name": "stdout",
     "output_type": "stream",
     "text": [
      "=====================================================================\n",
      "=====================================================================\n",
      "MSE:  0.0  ACC score:  1.0\n",
      "MSE:  0.0  ACC score:  1.0\n",
      "=====================================================================\n",
      "=====================================================================\n"
     ]
    }
   ],
   "source": [
    "model_load = np.load('pso_circle_gBest_113_100_100_2.npy')\n",
    "\n",
    "print(\"=====================================================================\")\n",
    "print(\"=====================================================================\")\n",
    "y_test_pred_load = np.argmax(nn.forward(X_test, model_load), axis=1)\n",
    "cost_test_load = mean_squared_error(y_test, y_test_pred_load)\n",
    "acc_test_load = accuracy_score(y_test, y_test_pred_load)\n",
    "print('MSE: ', cost_test_load, ' ACC score: ', acc_test_load)\n",
    "\n",
    "\n",
    "y_train_pred_load = np.argmax(nn.forward(X_train, model_load), axis=1)\n",
    "cost_train_load = mean_squared_error(y_train, y_train_pred_load)\n",
    "acc_train_load = accuracy_score(y_train, y_train_pred_load)\n",
    "print('MSE: ', cost_train_load, ' ACC score: ', acc_train_load)\n",
    "print(\"=====================================================================\")\n",
    "print(\"=====================================================================\")"
   ]
  },
  {
   "cell_type": "markdown",
   "id": "08263274",
   "metadata": {},
   "source": [
    "### PSO_bound optimizer"
   ]
  },
  {
   "cell_type": "code",
   "execution_count": null,
   "id": "ea189765",
   "metadata": {},
   "outputs": [],
   "source": [
    "#---------------------------------------\n",
    "# variable initialize for pso algorithm\n",
    "#---------------------------------------\n",
    "opt = {'c1': 0.5, 'c2': 0.3, 'w':0.9}\n",
    "\n",
    "gBest_value = []\n",
    "gBest = []\n",
    "cost_test = []\n",
    "metric_train = []\n",
    "\n",
    "\n",
    "for i in range(n_training):\n",
    "    # load perceptron\n",
    "    nn = perceptron_pso_bound(X_sample, X_input, X_class)\n",
    "    gBest.append( nn.train(X_train, y_train, opt, n_particulas, max_iter) )\n",
    "    gBest_value.append(nn.best_cost)\n",
    "    metric_train.append(nn.h_cost)\n",
    "    y_test_pred = np.argmax(nn.forward(X_test, gBest[i]), axis=1)\n",
    "    cost_test.append(mean_squared_error(y_test, y_test_pred))\n",
    "    print ('Test prediction cost with training: ', cost_test[i]) \n",
    "    min_cost = min(cost_test)\n",
    "    print (\"Min test prediction cost: \", min_cost)\n",
    "    if  cost_test[i] <= min_cost: \n",
    "        np.save(\"pso_circle_gBest_113_100_100_2.npy\", gBest[i])\n",
    "        np.save(\"pso_circle_gBestIter_113_100_100_2.npy\", nn.h_cost)\n",
    "        np.save(\"pso_circle_avgBest_113_100_100_2.npy\", nn.avg_best_value)\n",
    "        #np.save(\"pBest_113_100_100_2_5_1.npy\", nn.h_pos)\n",
    "        \n",
    "print(\"=====================================================================\")\n",
    "print(\"=====================================================================\")\n",
    "print(\"Saving train metric .... \")\n",
    "np.save(\"pso_circle_metric_113_100_100_2.npy\", metric_train)\n",
    "print(\"The best training is in iteration \", cost_test.index(min(cost_test)))\n",
    "print(\"The golbal best value is: \", gBest_value[cost_test.index(min(cost_test))])\n",
    "print(\"Test prediction cost: \", min(cost_test))\n",
    "print(\"=====================================================================\")\n",
    "print(\"=====================================================================\")"
   ]
  },
  {
   "cell_type": "code",
   "execution_count": 27,
   "id": "7699d716",
   "metadata": {},
   "outputs": [
    {
     "name": "stdout",
     "output_type": "stream",
     "text": [
      "=====================================================================\n",
      "=====================================================================\n",
      "MSE:  0.11  ACC score:  0.89\n",
      "MSE:  0.145  ACC score:  0.855\n",
      "=====================================================================\n",
      "=====================================================================\n"
     ]
    }
   ],
   "source": [
    "model_load = np.load('pso_circle_gBest_113_100_100_2.npy')\n",
    "\n",
    "print(\"=====================================================================\")\n",
    "print(\"=====================================================================\")\n",
    "y_test_pred_load = np.argmax(nn.forward(X_test, model_load), axis=1)\n",
    "cost_test_load = mean_squared_error(y_test, y_test_pred_load)\n",
    "acc_test_load = accuracy_score(y_test, y_test_pred_load)\n",
    "print('MSE: ', cost_test_load, ' ACC score: ', acc_test_load)\n",
    "\n",
    "\n",
    "y_train_pred_load = np.argmax(nn.forward(X_train, model_load), axis=1)\n",
    "cost_train_load = mean_squared_error(y_train, y_train_pred_load)\n",
    "acc_train_load = accuracy_score(y_train, y_train_pred_load)\n",
    "print('MSE: ', cost_train_load, ' ACC score: ', acc_train_load)\n",
    "print(\"=====================================================================\")\n",
    "print(\"=====================================================================\")"
   ]
  },
  {
   "cell_type": "markdown",
   "id": "ef45f203",
   "metadata": {},
   "source": [
    "### Adam optimizer"
   ]
  },
  {
   "cell_type": "code",
   "execution_count": null,
   "id": "cacda33d",
   "metadata": {},
   "outputs": [],
   "source": [
    "cost_test = []\n",
    "\n",
    "for i in range(n_training):\n",
    "    print('Training ', i+1, '...')\n",
    "    clf = MLPClassifier(hidden_layer_sizes=(X_input * 3, ), activation='tanh', solver='adam', max_iter=max_iter, alpha=5e-4)\n",
    "    clf.out_activation_ = 'multiclass'\n",
    "    clf.fit(X_train, y_train)\n",
    "    y_test_pred = clf.predict(X_test)\n",
    "    cost_test.append(mean_squared_error(y_test, y_test_pred))\n",
    "    print ('Test prediction cost with training: ', cost_test[i]) \n",
    "    min_cost = min(cost_test)\n",
    "    print (\"Min test prediction cost: \", min_cost)\n",
    "    if  cost_test[i] <= min_cost:\n",
    "        # save the model to disk\n",
    "        filename = 'adam_circle_model_113_100_100_2.sav'\n",
    "        jb.dump(clf, filename)"
   ]
  },
  {
   "cell_type": "code",
   "execution_count": 29,
   "id": "a3b0d1ad",
   "metadata": {},
   "outputs": [
    {
     "name": "stdout",
     "output_type": "stream",
     "text": [
      "=====================================================================\n",
      "=====================================================================\n",
      "MSE:  0.22  ACC score:  0.78\n",
      "MSE:  0.28  ACC score:  0.72\n",
      "=====================================================================\n",
      "=====================================================================\n"
     ]
    }
   ],
   "source": [
    "loaded_model = jb.load(filename)\n",
    "\n",
    "print(\"=====================================================================\")\n",
    "print(\"=====================================================================\")\n",
    "y_test_pred_load = loaded_model.predict(X_test)\n",
    "cost_test_load = mean_squared_error(y_test, y_test_pred_load)\n",
    "acc_test_load = accuracy_score(y_test, y_test_pred_load)\n",
    "print('MSE: ', cost_test_load, ' ACC score: ', acc_test_load)\n",
    "\n",
    "y_train_pred_load = loaded_model.predict(X_train)\n",
    "cost_train_load = mean_squared_error(y_train, y_train_pred_load)\n",
    "acc_train_load = accuracy_score(y_train, y_train_pred_load)\n",
    "print('MSE: ', cost_train_load, ' ACC score: ', acc_train_load)\n",
    "print(\"=====================================================================\")\n",
    "print(\"=====================================================================\")"
   ]
  },
  {
   "cell_type": "markdown",
   "id": "97c2a79a",
   "metadata": {},
   "source": [
    "### lbfgs optimizer"
   ]
  },
  {
   "cell_type": "code",
   "execution_count": null,
   "id": "023ca46b",
   "metadata": {},
   "outputs": [],
   "source": [
    "cost_test = []\n",
    "\n",
    "for i in range(n_training):\n",
    "    print('Training ', i+1, '...')\n",
    "    clf = MLPClassifier(hidden_layer_sizes=(X_input * 3, ), activation='tanh', solver='lbfgs', max_iter=max_iter, alpha=5e-4)\n",
    "    clf.out_activation_ = 'multiclass'\n",
    "    clf.fit(X_train, y_train)\n",
    "    y_test_pred = clf.predict(X_test)\n",
    "    cost_test.append(mean_squared_error(y_test, y_test_pred))\n",
    "    print ('Test prediction cost with training: ', cost_test[i]) \n",
    "    min_cost = min(cost_test)\n",
    "    print (\"Min test prediction cost: \", min_cost)\n",
    "    if  cost_test[i] <= min_cost:\n",
    "        # save the model to disk\n",
    "        filename = 'lbfgs_circle_model_113_100_100_2.sav'\n",
    "        jb.dump(clf, filename)"
   ]
  },
  {
   "cell_type": "code",
   "execution_count": 31,
   "id": "d7ad0342",
   "metadata": {},
   "outputs": [
    {
     "name": "stdout",
     "output_type": "stream",
     "text": [
      "=====================================================================\n",
      "=====================================================================\n",
      "MSE:  0.0  ACC score:  1.0\n",
      "MSE:  0.0  ACC score:  1.0\n",
      "=====================================================================\n",
      "=====================================================================\n"
     ]
    }
   ],
   "source": [
    "loaded_model = jb.load(filename)\n",
    "\n",
    "print(\"=====================================================================\")\n",
    "print(\"=====================================================================\")\n",
    "y_test_pred_load = loaded_model.predict(X_test)\n",
    "cost_test_load = mean_squared_error(y_test, y_test_pred_load)\n",
    "acc_test_load = accuracy_score(y_test, y_test_pred_load)\n",
    "print('MSE: ', cost_test_load, ' ACC score: ', acc_test_load)\n",
    "\n",
    "y_train_pred_load = loaded_model.predict(X_train)\n",
    "cost_train_load = mean_squared_error(y_train, y_train_pred_load)\n",
    "acc_train_load = accuracy_score(y_train, y_train_pred_load)\n",
    "print('MSE: ', cost_train_load, ' ACC score: ', acc_train_load)\n",
    "print(\"=====================================================================\")\n",
    "print(\"=====================================================================\")"
   ]
  },
  {
   "cell_type": "markdown",
   "id": "f9ff9e8b",
   "metadata": {},
   "source": [
    "### SGD optimizer"
   ]
  },
  {
   "cell_type": "code",
   "execution_count": null,
   "id": "ff2d24c7",
   "metadata": {},
   "outputs": [],
   "source": [
    "cost_test = []\n",
    "\n",
    "for i in range(n_training):\n",
    "    print('Training ', i+1, '...')\n",
    "    clf = MLPClassifier(hidden_layer_sizes=(X_input * 3, ), activation='tanh', solver='sgd', max_iter=max_iter, alpha=5e-4)\n",
    "    clf.out_activation_ = 'multiclass'\n",
    "    clf.fit(X_train, y_train)\n",
    "    y_test_pred = clf.predict(X_test)\n",
    "    cost_test.append(mean_squared_error(y_test, y_test_pred))\n",
    "    print ('Test prediction cost with training: ', cost_test[i]) \n",
    "    min_cost = min(cost_test)\n",
    "    print (\"Min test prediction cost: \", min_cost)\n",
    "    if  cost_test[i] <= min_cost:\n",
    "        # save the model to disk\n",
    "        filename = 'sgd_circle_model_113_100_100_2.sav'\n",
    "        jb.dump(clf, filename)"
   ]
  },
  {
   "cell_type": "code",
   "execution_count": 33,
   "id": "e2379720",
   "metadata": {},
   "outputs": [
    {
     "name": "stdout",
     "output_type": "stream",
     "text": [
      "=====================================================================\n",
      "=====================================================================\n",
      "MSE:  0.22  ACC score:  0.78\n",
      "MSE:  0.1225  ACC score:  0.8775\n",
      "=====================================================================\n",
      "=====================================================================\n"
     ]
    }
   ],
   "source": [
    "loaded_model = jb.load(filename)\n",
    "\n",
    "print(\"=====================================================================\")\n",
    "print(\"=====================================================================\")\n",
    "y_test_pred_load = loaded_model.predict(X_test)\n",
    "cost_test_load = mean_squared_error(y_test, y_test_pred_load)\n",
    "acc_test_load = accuracy_score(y_test, y_test_pred_load)\n",
    "print('MSE: ', cost_test_load, ' ACC score: ', acc_test_load)\n",
    "\n",
    "y_train_pred_load = loaded_model.predict(X_train)\n",
    "cost_train_load = mean_squared_error(y_train, y_train_pred_load)\n",
    "acc_train_load = accuracy_score(y_train, y_train_pred_load)\n",
    "print('MSE: ', cost_train_load, ' ACC score: ', acc_train_load)\n",
    "print(\"=====================================================================\")\n",
    "print(\"=====================================================================\")"
   ]
  }
 ],
 "metadata": {
  "kernelspec": {
   "display_name": "Python (qpso-env)",
   "language": "python",
   "name": "qpso-env"
  },
  "language_info": {
   "codemirror_mode": {
    "name": "ipython",
    "version": 3
   },
   "file_extension": ".py",
   "mimetype": "text/x-python",
   "name": "python",
   "nbconvert_exporter": "python",
   "pygments_lexer": "ipython3",
   "version": "3.9.7"
  }
 },
 "nbformat": 4,
 "nbformat_minor": 5
}
